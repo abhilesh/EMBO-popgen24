{
 "cells": [
  {
   "cell_type": "code",
   "execution_count": 43,
   "id": "bb56f8a1-65b9-46f5-a7c1-29c4bfe65299",
   "metadata": {
    "vscode": {
     "languageId": "r"
    }
   },
   "outputs": [
    {
     "name": "stderr",
     "output_type": "stream",
     "text": [
      "\n",
      "Attaching package: ‘plotly’\n",
      "\n",
      "\n",
      "The following object is masked from ‘package:ggplot2’:\n",
      "\n",
      "    last_plot\n",
      "\n",
      "\n",
      "The following object is masked from ‘package:stats’:\n",
      "\n",
      "    filter\n",
      "\n",
      "\n",
      "The following object is masked from ‘package:graphics’:\n",
      "\n",
      "    layout\n",
      "\n",
      "\n"
     ]
    }
   ],
   "source": [
    "library(tidypopgen)\n",
    "library(admixtools)\n",
    "library(ggplot2)\n",
    "library(plotly)\n",
    "#install.packages(\"vcfR\")\n"
   ]
  },
  {
   "cell_type": "code",
   "execution_count": 4,
   "id": "2044584c-99e9-401d-9c3c-2b065e78907b",
   "metadata": {
    "vscode": {
     "languageId": "r"
    }
   },
   "outputs": [
    {
     "name": "stderr",
     "output_type": "stream",
     "text": [
      "\n",
      "gen_tibble saved to /home/dhawanjewar/EMBO_popgen24/Day5/data/modern_samples.gt\n",
      "\n",
      "using bigSNP file: /home/dhawanjewar/EMBO_popgen24/Day5/data/modern_samples.rds\n",
      "\n",
      "with backing file: /home/dhawanjewar/EMBO_popgen24/Day5/data/modern_samples.bk\n",
      "\n",
      "make sure that you do NOT delete those files!\n",
      "\n",
      "to reload the gen_tibble in another session, use gt_load('/home/dhawanjewar/EMBO_popgen24/Day5/data/modern_samples.gt')\n",
      "\n"
     ]
    }
   ],
   "source": [
    "modern_gt <- tidypopgen::gen_tibble(\"./data/modern_samples.bed\",\n",
    "                        valid_alleles = c(\"A\",\"T\",\"C\",\"G\"),\n",
    "                        missing_alleles = c(\"X\"))"
   ]
  },
  {
   "cell_type": "markdown",
   "id": "2afc55c3-1ea0-4d62-966e-0ad22afa03d9",
   "metadata": {},
   "source": [
    "Get a tally of the number of individuals per population"
   ]
  },
  {
   "cell_type": "code",
   "execution_count": 5,
   "id": "d69ae9ea-2b27-4f1f-a47d-55283f9f7b4f",
   "metadata": {
    "vscode": {
     "languageId": "r"
    }
   },
   "outputs": [
    {
     "data": {
      "text/html": [
       "<table class=\"dataframe\">\n",
       "<caption>A tibble: 21 × 2</caption>\n",
       "<thead>\n",
       "\t<tr><th scope=col>population</th><th scope=col>n</th></tr>\n",
       "\t<tr><th scope=col>&lt;chr&gt;</th><th scope=col>&lt;int&gt;</th></tr>\n",
       "</thead>\n",
       "<tbody>\n",
       "\t<tr><td>AA             </td><td>12</td></tr>\n",
       "\t<tr><td>Basque         </td><td>29</td></tr>\n",
       "\t<tr><td>Bedouin2       </td><td>19</td></tr>\n",
       "\t<tr><td>Cypriot        </td><td> 8</td></tr>\n",
       "\t<tr><td>Dinka          </td><td> 7</td></tr>\n",
       "\t<tr><td>Druze          </td><td>39</td></tr>\n",
       "\t<tr><td>French         </td><td>25</td></tr>\n",
       "\t<tr><td>Han            </td><td>33</td></tr>\n",
       "\t<tr><td>Mayan          </td><td>18</td></tr>\n",
       "\t<tr><td>Mbuti          </td><td>10</td></tr>\n",
       "\t<tr><td>Mixe           </td><td>10</td></tr>\n",
       "\t<tr><td>Mota           </td><td> 1</td></tr>\n",
       "\t<tr><td>Onge           </td><td>11</td></tr>\n",
       "\t<tr><td>Sardinian      </td><td>27</td></tr>\n",
       "\t<tr><td>Somali         </td><td>13</td></tr>\n",
       "\t<tr><td>Spanish        </td><td>53</td></tr>\n",
       "\t<tr><td>Surui          </td><td>12</td></tr>\n",
       "\t<tr><td>Tuscan         </td><td> 8</td></tr>\n",
       "\t<tr><td>Yamnaya        </td><td> 7</td></tr>\n",
       "\t<tr><td>Yoruba         </td><td>70</td></tr>\n",
       "\t<tr><td>pan_troglodytes</td><td> 1</td></tr>\n",
       "</tbody>\n",
       "</table>\n"
      ],
      "text/latex": [
       "A tibble: 21 × 2\n",
       "\\begin{tabular}{ll}\n",
       " population & n\\\\\n",
       " <chr> & <int>\\\\\n",
       "\\hline\n",
       "\t AA              & 12\\\\\n",
       "\t Basque          & 29\\\\\n",
       "\t Bedouin2        & 19\\\\\n",
       "\t Cypriot         &  8\\\\\n",
       "\t Dinka           &  7\\\\\n",
       "\t Druze           & 39\\\\\n",
       "\t French          & 25\\\\\n",
       "\t Han             & 33\\\\\n",
       "\t Mayan           & 18\\\\\n",
       "\t Mbuti           & 10\\\\\n",
       "\t Mixe            & 10\\\\\n",
       "\t Mota            &  1\\\\\n",
       "\t Onge            & 11\\\\\n",
       "\t Sardinian       & 27\\\\\n",
       "\t Somali          & 13\\\\\n",
       "\t Spanish         & 53\\\\\n",
       "\t Surui           & 12\\\\\n",
       "\t Tuscan          &  8\\\\\n",
       "\t Yamnaya         &  7\\\\\n",
       "\t Yoruba          & 70\\\\\n",
       "\t pan\\_troglodytes &  1\\\\\n",
       "\\end{tabular}\n"
      ],
      "text/markdown": [
       "\n",
       "A tibble: 21 × 2\n",
       "\n",
       "| population &lt;chr&gt; | n &lt;int&gt; |\n",
       "|---|---|\n",
       "| AA              | 12 |\n",
       "| Basque          | 29 |\n",
       "| Bedouin2        | 19 |\n",
       "| Cypriot         |  8 |\n",
       "| Dinka           |  7 |\n",
       "| Druze           | 39 |\n",
       "| French          | 25 |\n",
       "| Han             | 33 |\n",
       "| Mayan           | 18 |\n",
       "| Mbuti           | 10 |\n",
       "| Mixe            | 10 |\n",
       "| Mota            |  1 |\n",
       "| Onge            | 11 |\n",
       "| Sardinian       | 27 |\n",
       "| Somali          | 13 |\n",
       "| Spanish         | 53 |\n",
       "| Surui           | 12 |\n",
       "| Tuscan          |  8 |\n",
       "| Yamnaya         |  7 |\n",
       "| Yoruba          | 70 |\n",
       "| pan_troglodytes |  1 |\n",
       "\n"
      ],
      "text/plain": [
       "   population      n \n",
       "1  AA              12\n",
       "2  Basque          29\n",
       "3  Bedouin2        19\n",
       "4  Cypriot          8\n",
       "5  Dinka            7\n",
       "6  Druze           39\n",
       "7  French          25\n",
       "8  Han             33\n",
       "9  Mayan           18\n",
       "10 Mbuti           10\n",
       "11 Mixe            10\n",
       "12 Mota             1\n",
       "13 Onge            11\n",
       "14 Sardinian       27\n",
       "15 Somali          13\n",
       "16 Spanish         53\n",
       "17 Surui           12\n",
       "18 Tuscan           8\n",
       "19 Yamnaya          7\n",
       "20 Yoruba          70\n",
       "21 pan_troglodytes  1"
      ]
     },
     "metadata": {},
     "output_type": "display_data"
    }
   ],
   "source": [
    "modern_gt %>% group_by(population) %>% tally()"
   ]
  },
  {
   "cell_type": "markdown",
   "id": "2aaeba5a-f57e-4279-8245-794b4e5c61a3",
   "metadata": {},
   "source": [
    "## Perform QC on the data (check for missingness)\n",
    "- Be more stringent on the modern data\n",
    "- Be more relaxed on the ancient data"
   ]
  },
  {
   "cell_type": "markdown",
   "id": "2a91a08d-c00e-4aaf-8fda-d60df885bc7c",
   "metadata": {},
   "source": [
    "### Perform QC on modern data"
   ]
  },
  {
   "cell_type": "code",
   "execution_count": 6,
   "id": "df29666e-3bdd-490e-9ff9-42017c92e4f3",
   "metadata": {
    "vscode": {
     "languageId": "r"
    }
   },
   "outputs": [],
   "source": [
    "modern_gt <- modern_gt %>%\n",
    "select_loci_if(loci_missingness(genotypes)<0.04)"
   ]
  },
  {
   "cell_type": "markdown",
   "id": "55cf495f-7ec2-4f0b-90a9-470a553d55c3",
   "metadata": {},
   "source": [
    "### Perform QC on ancient data"
   ]
  },
  {
   "cell_type": "code",
   "execution_count": 9,
   "id": "5feab462-fcde-43cd-8082-2df5a70c2bbb",
   "metadata": {
    "vscode": {
     "languageId": "r"
    }
   },
   "outputs": [],
   "source": [
    "ancient_gt <- tidypopgen::gen_tibble(\"./data/ancient_samples.vcf\",\n",
    "                          valid_alleles = c(\"A\",\"T\",\"C\",\"G\",\"X\"),\n",
    "                          quiet = TRUE)"
   ]
  },
  {
   "cell_type": "code",
   "execution_count": 10,
   "id": "20d221bb-21fe-4471-9121-d19ef1d157fb",
   "metadata": {
    "vscode": {
     "languageId": "r"
    }
   },
   "outputs": [],
   "source": [
    "ancient_gt$id[ancient_gt$id == \"GB20\"] <- \"Mota\""
   ]
  },
  {
   "cell_type": "markdown",
   "id": "132a28ff-3a67-4001-9c03-25c0f8767b43",
   "metadata": {},
   "source": [
    "Assign populations to samples, currently using ids as population samples"
   ]
  },
  {
   "cell_type": "code",
   "execution_count": 11,
   "id": "55d79119-5733-416d-a485-17be0573913a",
   "metadata": {
    "vscode": {
     "languageId": "r"
    }
   },
   "outputs": [],
   "source": [
    "ancient_gt$population <- ancient_gt$id"
   ]
  },
  {
   "cell_type": "markdown",
   "id": "ba830ac0-782b-42fd-bf67-f1d3c462181e",
   "metadata": {},
   "source": [
    "Merge data from ancient and modern samples"
   ]
  },
  {
   "cell_type": "code",
   "execution_count": 12,
   "id": "5e739eef-4dae-481f-bd0d-009d79ed1a86",
   "metadata": {
    "vscode": {
     "languageId": "r"
    }
   },
   "outputs": [
    {
     "name": "stdout",
     "output_type": "stream",
     "text": [
      "harmonising loci between two datasets\n",
      "flip_strand =  TRUE  ; remove_ambiguous =  TRUE \n",
      "-----------------------------\n",
      "dataset: reference \n",
      "number of SNPs: 581472 reduced to 581472 \n",
      "( 0 are ambiguous, of which 0  were removed)\n",
      "-----------------------------\n",
      "dataset: target \n",
      "number of SNPs: 588768 reduced to 581472 \n",
      "( 0 were flipped to match the reference set)\n",
      "( 0 are ambiguous, of which 0 were removed)"
     ]
    }
   ],
   "source": [
    "merged_dry <- rbind_dry_run(modern_gt, ancient_gt,\n",
    "                            flip_strand = TRUE)"
   ]
  },
  {
   "cell_type": "markdown",
   "id": "81beeccb-5411-4953-afe8-8bb6d52e7b77",
   "metadata": {},
   "source": [
    "Merge and save to file"
   ]
  },
  {
   "cell_type": "code",
   "execution_count": 14,
   "id": "5ad983b1-1535-408c-affc-0c8c3e5f2d6d",
   "metadata": {
    "vscode": {
     "languageId": "r"
    }
   },
   "outputs": [
    {
     "name": "stdout",
     "output_type": "stream",
     "text": [
      "harmonising loci between two datasets\n",
      "flip_strand =  TRUE  ; remove_ambiguous =  TRUE \n",
      "-----------------------------\n",
      "dataset: reference \n",
      "number of SNPs: 581472 reduced to 581472 \n",
      "( 0 are ambiguous, of which 0  were removed)\n",
      "-----------------------------\n",
      "dataset: target \n",
      "number of SNPs: 588768 reduced to 581472 \n",
      "( 0 were flipped to match the reference set)\n",
      "( 0 are ambiguous, of which 0 were removed)"
     ]
    },
    {
     "name": "stderr",
     "output_type": "stream",
     "text": [
      "\n",
      "gen_tibble saved to /home/dhawanjewar/EMBO_popgen24/Day5/data/merged_samples.gt\n",
      "\n",
      "using bigSNP file: /home/dhawanjewar/EMBO_popgen24/Day5/data/merged_samples.rds\n",
      "\n",
      "with backing file: /home/dhawanjewar/EMBO_popgen24/Day5/data/merged_samples.bk\n",
      "\n",
      "make sure that you do NOT delete those files!\n",
      "\n",
      "to reload the gen_tibble in another session, use gt_load('/home/dhawanjewar/EMBO_popgen24/Day5/data/merged_samples.gt')\n",
      "\n"
     ]
    }
   ],
   "source": [
    "merged_gt <- rbind(modern_gt, ancient_gt,\n",
    "                    flip_strand = TRUE,\n",
    "                    backingfile = \"./data/merged_samples\")"
   ]
  },
  {
   "cell_type": "markdown",
   "id": "593db13a-3ed0-4b52-a39b-baf940cdc1f5",
   "metadata": {},
   "source": [
    "Calculate pairwise f2 statistics and save to file to be used downstream"
   ]
  },
  {
   "cell_type": "code",
   "execution_count": 15,
   "id": "11c5ecfd-e8c8-40a5-b6b6-d8afea58eb71",
   "metadata": {
    "vscode": {
     "languageId": "r"
    }
   },
   "outputs": [
    {
     "name": "stderr",
     "output_type": "stream",
     "text": [
      "202754 SNPs remain after filtering. 191339 are polymorphic.\n",
      "\n",
      "\n"
     ]
    },
    {
     "name": "stdout",
     "output_type": "stream",
     "text": [
      "\u001b[36mℹ Allele frequency matrix for 202754 SNPs and 30 populations is 63 MB\n",
      "\u001b[39m\u001b[36mℹ Computing pairwise f2 for all SNPs and population pairs requires 3796 MB RAM without splitting\n",
      "\u001b[39m\u001b[36mℹ Computing without splitting since 3796 < 8000 (maxmem)...\n",
      "\u001b[39m"
     ]
    },
    {
     "name": "stderr",
     "output_type": "stream",
     "text": [
      "Data written to ./data/f2_tidypopgen/\n",
      "\n",
      "\n"
     ]
    }
   ],
   "source": [
    "# group test_gt by population\n",
    "merged_gt <- merged_gt %>% group_by(population)\n",
    "\n",
    "f2_dir <- \"./data/f2_tidypopgen\"\n",
    "\n",
    "# compute f2\n",
    "f2_tidypopgen <- gt_extract_f2(merged_gt,\n",
    "                                outdir = \"./data/f2_tidypopgen\",\n",
    "                                overwrite = TRUE)"
   ]
  },
  {
   "cell_type": "markdown",
   "id": "5833fda2-7b48-49f2-aae5-ceda1fe58a09",
   "metadata": {},
   "source": [
    "Read pre-computed f2 statistics"
   ]
  },
  {
   "cell_type": "code",
   "execution_count": 16,
   "id": "2355b42b-a746-4065-b5c1-4b5c0e8f9022",
   "metadata": {
    "vscode": {
     "languageId": "r"
    }
   },
   "outputs": [
    {
     "name": "stdout",
     "output_type": "stream",
     "text": [
      "\u001b[36mℹ Reading precomputed data for 30 populations...\n",
      "\u001b[39m\u001b[36mℹ Reading f2 data for pair 465 out of 465...\n",
      "\u001b[39m"
     ]
    }
   ],
   "source": [
    "f2_blocks = f2_from_precomp(\"./data/f2_tidypopgen\")"
   ]
  },
  {
   "cell_type": "markdown",
   "id": "706f375d-236b-4347-8b2a-4055c20db605",
   "metadata": {},
   "source": [
    "We now have a mystery sample and just want to know what is the closest population from a panel of already characterised populations.\n",
    "We will use a Neolithic sample from the Linear Band Keramik culture, called LBK. We will use a set of contemporary populations from western\n",
    "Eurasia in our dataset."
   ]
  },
  {
   "cell_type": "code",
   "execution_count": 17,
   "id": "7486e6e6-bbd3-4e30-94f5-e026a7ea03d9",
   "metadata": {
    "vscode": {
     "languageId": "r"
    }
   },
   "outputs": [],
   "source": [
    "# Western Eurasian\n",
    "lbk_modern_panel <- c(\"Basque\", \"Bedouin2\", \"Druze\", \"Cypriot\", \"Tuscan\",\n",
    "                      \"Sardinian\", \"French\", \"Spanish\", \"Onge\", \"Han\", \n",
    "                      \"Mayan\", \"Mixe\", \"Surui\")"
   ]
  },
  {
   "cell_type": "markdown",
   "id": "8e8479a6-5730-4ef2-b3af-ca4329082ae9",
   "metadata": {},
   "source": [
    "Compute outgroup $f_{3}$ using Mbuti as outgroup"
   ]
  },
  {
   "cell_type": "code",
   "execution_count": 18,
   "id": "e16ff830-b2a3-4c27-946a-cd13ead6e524",
   "metadata": {
    "vscode": {
     "languageId": "r"
    }
   },
   "outputs": [
    {
     "data": {
      "text/html": [
       "<table class=\"dataframe\">\n",
       "<caption>A tibble: 13 × 7</caption>\n",
       "<thead>\n",
       "\t<tr><th scope=col>pop1</th><th scope=col>pop2</th><th scope=col>pop3</th><th scope=col>est</th><th scope=col>se</th><th scope=col>z</th><th scope=col>p</th></tr>\n",
       "\t<tr><th scope=col>&lt;chr&gt;</th><th scope=col>&lt;chr&gt;</th><th scope=col>&lt;chr&gt;</th><th scope=col>&lt;dbl&gt;</th><th scope=col>&lt;dbl&gt;</th><th scope=col>&lt;dbl&gt;</th><th scope=col>&lt;dbl&gt;</th></tr>\n",
       "</thead>\n",
       "<tbody>\n",
       "\t<tr><td>Mbuti</td><td>LBK</td><td>Sardinian</td><td>0.06383625</td><td>0.0005520237</td><td>115.64042</td><td>0</td></tr>\n",
       "\t<tr><td>Mbuti</td><td>LBK</td><td>Basque   </td><td>0.06291524</td><td>0.0005458171</td><td>115.26799</td><td>0</td></tr>\n",
       "\t<tr><td>Mbuti</td><td>LBK</td><td>Tuscan   </td><td>0.06256139</td><td>0.0005440091</td><td>115.00063</td><td>0</td></tr>\n",
       "\t<tr><td>Mbuti</td><td>LBK</td><td>French   </td><td>0.06235083</td><td>0.0005408994</td><td>115.27250</td><td>0</td></tr>\n",
       "\t<tr><td>Mbuti</td><td>LBK</td><td>Spanish  </td><td>0.06212387</td><td>0.0005330377</td><td>116.54685</td><td>0</td></tr>\n",
       "\t<tr><td>Mbuti</td><td>LBK</td><td>Cypriot  </td><td>0.06136867</td><td>0.0005372127</td><td>114.23534</td><td>0</td></tr>\n",
       "\t<tr><td>Mbuti</td><td>LBK</td><td>Druze    </td><td>0.06046716</td><td>0.0005267235</td><td>114.79867</td><td>0</td></tr>\n",
       "\t<tr><td>Mbuti</td><td>LBK</td><td>Bedouin2 </td><td>0.05833366</td><td>0.0005210942</td><td>111.94456</td><td>0</td></tr>\n",
       "\t<tr><td>Mbuti</td><td>LBK</td><td>Surui    </td><td>0.05326572</td><td>0.0006675080</td><td> 79.79787</td><td>0</td></tr>\n",
       "\t<tr><td>Mbuti</td><td>LBK</td><td>Mayan    </td><td>0.05311595</td><td>0.0005950412</td><td> 89.26433</td><td>0</td></tr>\n",
       "\t<tr><td>Mbuti</td><td>LBK</td><td>Mixe     </td><td>0.05306911</td><td>0.0006255706</td><td> 84.83313</td><td>0</td></tr>\n",
       "\t<tr><td>Mbuti</td><td>LBK</td><td>Han      </td><td>0.05120091</td><td>0.0005790437</td><td> 88.42322</td><td>0</td></tr>\n",
       "\t<tr><td>Mbuti</td><td>LBK</td><td>Onge     </td><td>0.05051369</td><td>0.0006159051</td><td> 82.01537</td><td>0</td></tr>\n",
       "</tbody>\n",
       "</table>\n"
      ],
      "text/latex": [
       "A tibble: 13 × 7\n",
       "\\begin{tabular}{lllllll}\n",
       " pop1 & pop2 & pop3 & est & se & z & p\\\\\n",
       " <chr> & <chr> & <chr> & <dbl> & <dbl> & <dbl> & <dbl>\\\\\n",
       "\\hline\n",
       "\t Mbuti & LBK & Sardinian & 0.06383625 & 0.0005520237 & 115.64042 & 0\\\\\n",
       "\t Mbuti & LBK & Basque    & 0.06291524 & 0.0005458171 & 115.26799 & 0\\\\\n",
       "\t Mbuti & LBK & Tuscan    & 0.06256139 & 0.0005440091 & 115.00063 & 0\\\\\n",
       "\t Mbuti & LBK & French    & 0.06235083 & 0.0005408994 & 115.27250 & 0\\\\\n",
       "\t Mbuti & LBK & Spanish   & 0.06212387 & 0.0005330377 & 116.54685 & 0\\\\\n",
       "\t Mbuti & LBK & Cypriot   & 0.06136867 & 0.0005372127 & 114.23534 & 0\\\\\n",
       "\t Mbuti & LBK & Druze     & 0.06046716 & 0.0005267235 & 114.79867 & 0\\\\\n",
       "\t Mbuti & LBK & Bedouin2  & 0.05833366 & 0.0005210942 & 111.94456 & 0\\\\\n",
       "\t Mbuti & LBK & Surui     & 0.05326572 & 0.0006675080 &  79.79787 & 0\\\\\n",
       "\t Mbuti & LBK & Mayan     & 0.05311595 & 0.0005950412 &  89.26433 & 0\\\\\n",
       "\t Mbuti & LBK & Mixe      & 0.05306911 & 0.0006255706 &  84.83313 & 0\\\\\n",
       "\t Mbuti & LBK & Han       & 0.05120091 & 0.0005790437 &  88.42322 & 0\\\\\n",
       "\t Mbuti & LBK & Onge      & 0.05051369 & 0.0006159051 &  82.01537 & 0\\\\\n",
       "\\end{tabular}\n"
      ],
      "text/markdown": [
       "\n",
       "A tibble: 13 × 7\n",
       "\n",
       "| pop1 &lt;chr&gt; | pop2 &lt;chr&gt; | pop3 &lt;chr&gt; | est &lt;dbl&gt; | se &lt;dbl&gt; | z &lt;dbl&gt; | p &lt;dbl&gt; |\n",
       "|---|---|---|---|---|---|---|\n",
       "| Mbuti | LBK | Sardinian | 0.06383625 | 0.0005520237 | 115.64042 | 0 |\n",
       "| Mbuti | LBK | Basque    | 0.06291524 | 0.0005458171 | 115.26799 | 0 |\n",
       "| Mbuti | LBK | Tuscan    | 0.06256139 | 0.0005440091 | 115.00063 | 0 |\n",
       "| Mbuti | LBK | French    | 0.06235083 | 0.0005408994 | 115.27250 | 0 |\n",
       "| Mbuti | LBK | Spanish   | 0.06212387 | 0.0005330377 | 116.54685 | 0 |\n",
       "| Mbuti | LBK | Cypriot   | 0.06136867 | 0.0005372127 | 114.23534 | 0 |\n",
       "| Mbuti | LBK | Druze     | 0.06046716 | 0.0005267235 | 114.79867 | 0 |\n",
       "| Mbuti | LBK | Bedouin2  | 0.05833366 | 0.0005210942 | 111.94456 | 0 |\n",
       "| Mbuti | LBK | Surui     | 0.05326572 | 0.0006675080 |  79.79787 | 0 |\n",
       "| Mbuti | LBK | Mayan     | 0.05311595 | 0.0005950412 |  89.26433 | 0 |\n",
       "| Mbuti | LBK | Mixe      | 0.05306911 | 0.0006255706 |  84.83313 | 0 |\n",
       "| Mbuti | LBK | Han       | 0.05120091 | 0.0005790437 |  88.42322 | 0 |\n",
       "| Mbuti | LBK | Onge      | 0.05051369 | 0.0006159051 |  82.01537 | 0 |\n",
       "\n"
      ],
      "text/plain": [
       "   pop1  pop2 pop3      est        se           z         p\n",
       "1  Mbuti LBK  Sardinian 0.06383625 0.0005520237 115.64042 0\n",
       "2  Mbuti LBK  Basque    0.06291524 0.0005458171 115.26799 0\n",
       "3  Mbuti LBK  Tuscan    0.06256139 0.0005440091 115.00063 0\n",
       "4  Mbuti LBK  French    0.06235083 0.0005408994 115.27250 0\n",
       "5  Mbuti LBK  Spanish   0.06212387 0.0005330377 116.54685 0\n",
       "6  Mbuti LBK  Cypriot   0.06136867 0.0005372127 114.23534 0\n",
       "7  Mbuti LBK  Druze     0.06046716 0.0005267235 114.79867 0\n",
       "8  Mbuti LBK  Bedouin2  0.05833366 0.0005210942 111.94456 0\n",
       "9  Mbuti LBK  Surui     0.05326572 0.0006675080  79.79787 0\n",
       "10 Mbuti LBK  Mayan     0.05311595 0.0005950412  89.26433 0\n",
       "11 Mbuti LBK  Mixe      0.05306911 0.0006255706  84.83313 0\n",
       "12 Mbuti LBK  Han       0.05120091 0.0005790437  88.42322 0\n",
       "13 Mbuti LBK  Onge      0.05051369 0.0006159051  82.01537 0"
      ]
     },
     "metadata": {},
     "output_type": "display_data"
    }
   ],
   "source": [
    "lbk_f3out <- f3(data = f2_blocks,\n",
    "                pop1 = \"Mbuti\",\n",
    "                pop2 = \"LBK\",\n",
    "                pop3 = lbk_modern_panel)\n",
    "\n",
    "# Arrange by f3 estimates in descending order\n",
    "lbk_f3out %>% arrange(desc(est))"
   ]
  },
  {
   "cell_type": "markdown",
   "id": "b45d10aa-f046-4f5a-a40a-a8872300f1c8",
   "metadata": {},
   "source": [
    "## Q: Which populations share the most drift with LBK? (Plot ordered by level of shared drift)"
   ]
  },
  {
   "cell_type": "code",
   "execution_count": 19,
   "id": "0a61ae26-c720-4e99-ba92-d5356a9c2449",
   "metadata": {
    "vscode": {
     "languageId": "r"
    }
   },
   "outputs": [
    {
     "data": {
      "image/png": "[encoded data removed]",
      "text/plain": [
       "plot without title"
      ]
     },
     "metadata": {
      "image/png": {
       "height": 420,
       "width": 420
      }
     },
     "output_type": "display_data"
    }
   ],
   "source": [
    "lbk_f3out$pop3<-factor(lbk_f3out$pop3, levels = lbk_f3out$pop3[order(lbk_f3out$est)])\n",
    "\n",
    "ggplot(lbk_f3out, aes(pop3, est)) +\n",
    "    geom_point() +\n",
    "    geom_errorbar(aes(ymin = est - 2 * se, ymax = est + 2 * se)) +\n",
    "    labs(y = \"Shared drift with LBK\", x = \"populations\") +\n",
    "    theme(axis.text.x = element_text(angle = 90, hjust = 1))"
   ]
  },
  {
   "cell_type": "markdown",
   "id": "8f551005-9513-4b2a-8bb6-c7f2b57669b7",
   "metadata": {},
   "source": [
    "## Q: Investigate the relationship of the sample \"MA1\" (from Central Asia) with the contemporary samples"
   ]
  },
  {
   "cell_type": "code",
   "execution_count": 21,
   "id": "34b0bd5c-6943-41fc-bc47-abe76b520c42",
   "metadata": {
    "vscode": {
     "languageId": "r"
    }
   },
   "outputs": [
    {
     "data": {
      "text/html": [
       "<table class=\"dataframe\">\n",
       "<caption>A tibble: 13 × 7</caption>\n",
       "<thead>\n",
       "\t<tr><th scope=col>pop1</th><th scope=col>pop2</th><th scope=col>pop3</th><th scope=col>est</th><th scope=col>se</th><th scope=col>z</th><th scope=col>p</th></tr>\n",
       "\t<tr><th scope=col>&lt;chr&gt;</th><th scope=col>&lt;chr&gt;</th><th scope=col>&lt;chr&gt;</th><th scope=col>&lt;dbl&gt;</th><th scope=col>&lt;dbl&gt;</th><th scope=col>&lt;dbl&gt;</th><th scope=col>&lt;dbl&gt;</th></tr>\n",
       "</thead>\n",
       "<tbody>\n",
       "\t<tr><td>Mbuti</td><td>MA1</td><td>Surui    </td><td>0.06178498</td><td>0.0007749173</td><td>79.73106</td><td>0</td></tr>\n",
       "\t<tr><td>Mbuti</td><td>MA1</td><td>Mixe     </td><td>0.06170624</td><td>0.0007180994</td><td>85.92994</td><td>0</td></tr>\n",
       "\t<tr><td>Mbuti</td><td>MA1</td><td>Mayan    </td><td>0.06082375</td><td>0.0006851560</td><td>88.77357</td><td>0</td></tr>\n",
       "\t<tr><td>Mbuti</td><td>MA1</td><td>French   </td><td>0.05809632</td><td>0.0005906329</td><td>98.36282</td><td>0</td></tr>\n",
       "\t<tr><td>Mbuti</td><td>MA1</td><td>Basque   </td><td>0.05790964</td><td>0.0005989540</td><td>96.68462</td><td>0</td></tr>\n",
       "\t<tr><td>Mbuti</td><td>MA1</td><td>Spanish  </td><td>0.05689009</td><td>0.0005846894</td><td>97.29968</td><td>0</td></tr>\n",
       "\t<tr><td>Mbuti</td><td>MA1</td><td>Tuscan   </td><td>0.05685658</td><td>0.0005997796</td><td>94.79578</td><td>0</td></tr>\n",
       "\t<tr><td>Mbuti</td><td>MA1</td><td>Sardinian</td><td>0.05606215</td><td>0.0005957576</td><td>94.10227</td><td>0</td></tr>\n",
       "\t<tr><td>Mbuti</td><td>MA1</td><td>Cypriot  </td><td>0.05551302</td><td>0.0005960841</td><td>93.12950</td><td>0</td></tr>\n",
       "\t<tr><td>Mbuti</td><td>MA1</td><td>Druze    </td><td>0.05476471</td><td>0.0005693445</td><td>96.18906</td><td>0</td></tr>\n",
       "\t<tr><td>Mbuti</td><td>MA1</td><td>Han      </td><td>0.05456024</td><td>0.0006166730</td><td>88.47516</td><td>0</td></tr>\n",
       "\t<tr><td>Mbuti</td><td>MA1</td><td>Onge     </td><td>0.05394092</td><td>0.0006556727</td><td>82.26806</td><td>0</td></tr>\n",
       "\t<tr><td>Mbuti</td><td>MA1</td><td>Bedouin2 </td><td>0.05230227</td><td>0.0005567930</td><td>93.93486</td><td>0</td></tr>\n",
       "</tbody>\n",
       "</table>\n"
      ],
      "text/latex": [
       "A tibble: 13 × 7\n",
       "\\begin{tabular}{lllllll}\n",
       " pop1 & pop2 & pop3 & est & se & z & p\\\\\n",
       " <chr> & <chr> & <chr> & <dbl> & <dbl> & <dbl> & <dbl>\\\\\n",
       "\\hline\n",
       "\t Mbuti & MA1 & Surui     & 0.06178498 & 0.0007749173 & 79.73106 & 0\\\\\n",
       "\t Mbuti & MA1 & Mixe      & 0.06170624 & 0.0007180994 & 85.92994 & 0\\\\\n",
       "\t Mbuti & MA1 & Mayan     & 0.06082375 & 0.0006851560 & 88.77357 & 0\\\\\n",
       "\t Mbuti & MA1 & French    & 0.05809632 & 0.0005906329 & 98.36282 & 0\\\\\n",
       "\t Mbuti & MA1 & Basque    & 0.05790964 & 0.0005989540 & 96.68462 & 0\\\\\n",
       "\t Mbuti & MA1 & Spanish   & 0.05689009 & 0.0005846894 & 97.29968 & 0\\\\\n",
       "\t Mbuti & MA1 & Tuscan    & 0.05685658 & 0.0005997796 & 94.79578 & 0\\\\\n",
       "\t Mbuti & MA1 & Sardinian & 0.05606215 & 0.0005957576 & 94.10227 & 0\\\\\n",
       "\t Mbuti & MA1 & Cypriot   & 0.05551302 & 0.0005960841 & 93.12950 & 0\\\\\n",
       "\t Mbuti & MA1 & Druze     & 0.05476471 & 0.0005693445 & 96.18906 & 0\\\\\n",
       "\t Mbuti & MA1 & Han       & 0.05456024 & 0.0006166730 & 88.47516 & 0\\\\\n",
       "\t Mbuti & MA1 & Onge      & 0.05394092 & 0.0006556727 & 82.26806 & 0\\\\\n",
       "\t Mbuti & MA1 & Bedouin2  & 0.05230227 & 0.0005567930 & 93.93486 & 0\\\\\n",
       "\\end{tabular}\n"
      ],
      "text/markdown": [
       "\n",
       "A tibble: 13 × 7\n",
       "\n",
       "| pop1 &lt;chr&gt; | pop2 &lt;chr&gt; | pop3 &lt;chr&gt; | est &lt;dbl&gt; | se &lt;dbl&gt; | z &lt;dbl&gt; | p &lt;dbl&gt; |\n",
       "|---|---|---|---|---|---|---|\n",
       "| Mbuti | MA1 | Surui     | 0.06178498 | 0.0007749173 | 79.73106 | 0 |\n",
       "| Mbuti | MA1 | Mixe      | 0.06170624 | 0.0007180994 | 85.92994 | 0 |\n",
       "| Mbuti | MA1 | Mayan     | 0.06082375 | 0.0006851560 | 88.77357 | 0 |\n",
       "| Mbuti | MA1 | French    | 0.05809632 | 0.0005906329 | 98.36282 | 0 |\n",
       "| Mbuti | MA1 | Basque    | 0.05790964 | 0.0005989540 | 96.68462 | 0 |\n",
       "| Mbuti | MA1 | Spanish   | 0.05689009 | 0.0005846894 | 97.29968 | 0 |\n",
       "| Mbuti | MA1 | Tuscan    | 0.05685658 | 0.0005997796 | 94.79578 | 0 |\n",
       "| Mbuti | MA1 | Sardinian | 0.05606215 | 0.0005957576 | 94.10227 | 0 |\n",
       "| Mbuti | MA1 | Cypriot   | 0.05551302 | 0.0005960841 | 93.12950 | 0 |\n",
       "| Mbuti | MA1 | Druze     | 0.05476471 | 0.0005693445 | 96.18906 | 0 |\n",
       "| Mbuti | MA1 | Han       | 0.05456024 | 0.0006166730 | 88.47516 | 0 |\n",
       "| Mbuti | MA1 | Onge      | 0.05394092 | 0.0006556727 | 82.26806 | 0 |\n",
       "| Mbuti | MA1 | Bedouin2  | 0.05230227 | 0.0005567930 | 93.93486 | 0 |\n",
       "\n"
      ],
      "text/plain": [
       "   pop1  pop2 pop3      est        se           z        p\n",
       "1  Mbuti MA1  Surui     0.06178498 0.0007749173 79.73106 0\n",
       "2  Mbuti MA1  Mixe      0.06170624 0.0007180994 85.92994 0\n",
       "3  Mbuti MA1  Mayan     0.06082375 0.0006851560 88.77357 0\n",
       "4  Mbuti MA1  French    0.05809632 0.0005906329 98.36282 0\n",
       "5  Mbuti MA1  Basque    0.05790964 0.0005989540 96.68462 0\n",
       "6  Mbuti MA1  Spanish   0.05689009 0.0005846894 97.29968 0\n",
       "7  Mbuti MA1  Tuscan    0.05685658 0.0005997796 94.79578 0\n",
       "8  Mbuti MA1  Sardinian 0.05606215 0.0005957576 94.10227 0\n",
       "9  Mbuti MA1  Cypriot   0.05551302 0.0005960841 93.12950 0\n",
       "10 Mbuti MA1  Druze     0.05476471 0.0005693445 96.18906 0\n",
       "11 Mbuti MA1  Han       0.05456024 0.0006166730 88.47516 0\n",
       "12 Mbuti MA1  Onge      0.05394092 0.0006556727 82.26806 0\n",
       "13 Mbuti MA1  Bedouin2  0.05230227 0.0005567930 93.93486 0"
      ]
     },
     "metadata": {},
     "output_type": "display_data"
    }
   ],
   "source": [
    "# Using the same modern panel for MA1 as LBK (Western Eurasia)\n",
    "ma1_modern_panel <- lbk_modern_panel\n",
    "\n",
    "# Using Mbuti as the outgroup\n",
    "ma1_f3out <- f3(data = f2_blocks,\n",
    "                pop1 = \"Mbuti\",\n",
    "                pop2 = \"MA1\",\n",
    "                pop3 = ma1_modern_panel)\n",
    "\n",
    "# Arrange by f3 estimates in descending order\n",
    "ma1_f3out %>% arrange(desc(est))"
   ]
  },
  {
   "cell_type": "code",
   "execution_count": 22,
   "id": "26fda3d0-4b0f-4436-89bc-057c33949d1d",
   "metadata": {
    "vscode": {
     "languageId": "r"
    }
   },
   "outputs": [
    {
     "data": {
      "image/png": "[encoded data removed]",
      "text/plain": [
       "plot without title"
      ]
     },
     "metadata": {
      "image/png": {
       "height": 420,
       "width": 420
      }
     },
     "output_type": "display_data"
    }
   ],
   "source": [
    "ma1_f3out$pop3<-factor(ma1_f3out$pop3, levels = ma1_f3out$pop3[order(ma1_f3out$est)])\n",
    "\n",
    "ggplot(ma1_f3out, aes(pop3, est)) +\n",
    "    geom_point() +\n",
    "    geom_errorbar(aes(ymin = est - 2 * se, ymax = est + 2 * se)) +\n",
    "    labs(y = \"Shared drift with MA1\", x = \"populations\") +\n",
    "    theme(axis.text.x = element_text(angle = 90, hjust = 1))"
   ]
  },
  {
   "cell_type": "markdown",
   "id": "62fed376",
   "metadata": {},
   "source": [
    "Do we have evidence for admixture?\n",
    "Can African Americans be modelled as a mixture of African and European populations?"
   ]
  },
  {
   "cell_type": "code",
   "execution_count": 23,
   "id": "a673dbef",
   "metadata": {
    "vscode": {
     "languageId": "r"
    }
   },
   "outputs": [
    {
     "data": {
      "text/html": [
       "<table class=\"dataframe\">\n",
       "<caption>A tibble: 1 × 7</caption>\n",
       "<thead>\n",
       "\t<tr><th scope=col>pop1</th><th scope=col>pop2</th><th scope=col>pop3</th><th scope=col>est</th><th scope=col>se</th><th scope=col>z</th><th scope=col>p</th></tr>\n",
       "\t<tr><th scope=col>&lt;chr&gt;</th><th scope=col>&lt;chr&gt;</th><th scope=col>&lt;chr&gt;</th><th scope=col>&lt;dbl&gt;</th><th scope=col>&lt;dbl&gt;</th><th scope=col>&lt;dbl&gt;</th><th scope=col>&lt;dbl&gt;</th></tr>\n",
       "</thead>\n",
       "<tbody>\n",
       "\t<tr><td>AA</td><td>Yoruba</td><td>French</td><td>-0.0047181</td><td>0.0001196604</td><td>-39.42909</td><td>0</td></tr>\n",
       "</tbody>\n",
       "</table>\n"
      ],
      "text/latex": [
       "A tibble: 1 × 7\n",
       "\\begin{tabular}{lllllll}\n",
       " pop1 & pop2 & pop3 & est & se & z & p\\\\\n",
       " <chr> & <chr> & <chr> & <dbl> & <dbl> & <dbl> & <dbl>\\\\\n",
       "\\hline\n",
       "\t AA & Yoruba & French & -0.0047181 & 0.0001196604 & -39.42909 & 0\\\\\n",
       "\\end{tabular}\n"
      ],
      "text/markdown": [
       "\n",
       "A tibble: 1 × 7\n",
       "\n",
       "| pop1 &lt;chr&gt; | pop2 &lt;chr&gt; | pop3 &lt;chr&gt; | est &lt;dbl&gt; | se &lt;dbl&gt; | z &lt;dbl&gt; | p &lt;dbl&gt; |\n",
       "|---|---|---|---|---|---|---|\n",
       "| AA | Yoruba | French | -0.0047181 | 0.0001196604 | -39.42909 | 0 |\n",
       "\n"
      ],
      "text/plain": [
       "  pop1 pop2   pop3   est        se           z         p\n",
       "1 AA   Yoruba French -0.0047181 0.0001196604 -39.42909 0"
      ]
     },
     "metadata": {},
     "output_type": "display_data"
    }
   ],
   "source": [
    "aa_f3admix <- f3(data = f2_blocks,\n",
    "                    pop1 = \"AA\",\n",
    "                    pop2 = \"Yoruba\",\n",
    "                    pop3 = \"French\")\n",
    "\n",
    "aa_f3admix"
   ]
  },
  {
   "cell_type": "markdown",
   "id": "f6c1e52a",
   "metadata": {},
   "source": [
    "Since the f3 value is negative, we can infer that there was admixture between the African and European populations."
   ]
  },
  {
   "cell_type": "markdown",
   "id": "b17e26e5",
   "metadata": {},
   "source": [
    "Test admixture in two East African target populations (Somali from Somalia, Dinka from Sudan)"
   ]
  },
  {
   "cell_type": "code",
   "execution_count": 26,
   "id": "b0fbdd81",
   "metadata": {
    "vscode": {
     "languageId": "r"
    }
   },
   "outputs": [],
   "source": [
    "eurasian_sources <- c(\"French\",\"Spanish\",\"Sardinian\",\"LBK\")"
   ]
  },
  {
   "cell_type": "code",
   "execution_count": 27,
   "id": "e945eb58",
   "metadata": {
    "vscode": {
     "languageId": "r"
    }
   },
   "outputs": [
    {
     "data": {
      "text/html": [
       "<table class=\"dataframe\">\n",
       "<caption>A tibble: 4 × 7</caption>\n",
       "<thead>\n",
       "\t<tr><th scope=col>pop1</th><th scope=col>pop2</th><th scope=col>pop3</th><th scope=col>est</th><th scope=col>se</th><th scope=col>z</th><th scope=col>p</th></tr>\n",
       "\t<tr><th scope=col>&lt;chr&gt;</th><th scope=col>&lt;chr&gt;</th><th scope=col>&lt;chr&gt;</th><th scope=col>&lt;dbl&gt;</th><th scope=col>&lt;dbl&gt;</th><th scope=col>&lt;dbl&gt;</th><th scope=col>&lt;dbl&gt;</th></tr>\n",
       "</thead>\n",
       "<tbody>\n",
       "\t<tr><td>Somali</td><td>French   </td><td>Mota</td><td>-0.004564529</td><td>0.0002191228</td><td>-20.83092</td><td> 2.270666e-96</td></tr>\n",
       "\t<tr><td>Somali</td><td>LBK      </td><td>Mota</td><td>-0.005111896</td><td>0.0003530471</td><td>-14.47936</td><td> 1.636124e-47</td></tr>\n",
       "\t<tr><td>Somali</td><td>Sardinian</td><td>Mota</td><td>-0.004952821</td><td>0.0002162430</td><td>-22.90397</td><td>4.242046e-116</td></tr>\n",
       "\t<tr><td>Somali</td><td>Spanish  </td><td>Mota</td><td>-0.004504032</td><td>0.0002071385</td><td>-21.74406</td><td>7.862117e-105</td></tr>\n",
       "</tbody>\n",
       "</table>\n"
      ],
      "text/latex": [
       "A tibble: 4 × 7\n",
       "\\begin{tabular}{lllllll}\n",
       " pop1 & pop2 & pop3 & est & se & z & p\\\\\n",
       " <chr> & <chr> & <chr> & <dbl> & <dbl> & <dbl> & <dbl>\\\\\n",
       "\\hline\n",
       "\t Somali & French    & Mota & -0.004564529 & 0.0002191228 & -20.83092 &  2.270666e-96\\\\\n",
       "\t Somali & LBK       & Mota & -0.005111896 & 0.0003530471 & -14.47936 &  1.636124e-47\\\\\n",
       "\t Somali & Sardinian & Mota & -0.004952821 & 0.0002162430 & -22.90397 & 4.242046e-116\\\\\n",
       "\t Somali & Spanish   & Mota & -0.004504032 & 0.0002071385 & -21.74406 & 7.862117e-105\\\\\n",
       "\\end{tabular}\n"
      ],
      "text/markdown": [
       "\n",
       "A tibble: 4 × 7\n",
       "\n",
       "| pop1 &lt;chr&gt; | pop2 &lt;chr&gt; | pop3 &lt;chr&gt; | est &lt;dbl&gt; | se &lt;dbl&gt; | z &lt;dbl&gt; | p &lt;dbl&gt; |\n",
       "|---|---|---|---|---|---|---|\n",
       "| Somali | French    | Mota | -0.004564529 | 0.0002191228 | -20.83092 |  2.270666e-96 |\n",
       "| Somali | LBK       | Mota | -0.005111896 | 0.0003530471 | -14.47936 |  1.636124e-47 |\n",
       "| Somali | Sardinian | Mota | -0.004952821 | 0.0002162430 | -22.90397 | 4.242046e-116 |\n",
       "| Somali | Spanish   | Mota | -0.004504032 | 0.0002071385 | -21.74406 | 7.862117e-105 |\n",
       "\n"
      ],
      "text/plain": [
       "  pop1   pop2      pop3 est          se           z         p            \n",
       "1 Somali French    Mota -0.004564529 0.0002191228 -20.83092  2.270666e-96\n",
       "2 Somali LBK       Mota -0.005111896 0.0003530471 -14.47936  1.636124e-47\n",
       "3 Somali Sardinian Mota -0.004952821 0.0002162430 -22.90397 4.242046e-116\n",
       "4 Somali Spanish   Mota -0.004504032 0.0002071385 -21.74406 7.862117e-105"
      ]
     },
     "metadata": {},
     "output_type": "display_data"
    }
   ],
   "source": [
    "somali_f3admix <- f3(data = f2_blocks,\n",
    "                    pop1 = \"Somali\",\n",
    "                    pop2 = eurasian_sources,\n",
    "                    pop3 = \"Mota\")\n",
    "\n",
    "somali_f3admix"
   ]
  },
  {
   "cell_type": "code",
   "execution_count": 28,
   "id": "77f1cce6",
   "metadata": {
    "vscode": {
     "languageId": "r"
    }
   },
   "outputs": [
    {
     "data": {
      "text/html": [
       "<table class=\"dataframe\">\n",
       "<caption>A tibble: 4 × 7</caption>\n",
       "<thead>\n",
       "\t<tr><th scope=col>pop1</th><th scope=col>pop2</th><th scope=col>pop3</th><th scope=col>est</th><th scope=col>se</th><th scope=col>z</th><th scope=col>p</th></tr>\n",
       "\t<tr><th scope=col>&lt;chr&gt;</th><th scope=col>&lt;chr&gt;</th><th scope=col>&lt;chr&gt;</th><th scope=col>&lt;dbl&gt;</th><th scope=col>&lt;dbl&gt;</th><th scope=col>&lt;dbl&gt;</th><th scope=col>&lt;dbl&gt;</th></tr>\n",
       "</thead>\n",
       "<tbody>\n",
       "\t<tr><td>Dinka</td><td>French   </td><td>Mota</td><td>0.006055945</td><td>0.0002917728</td><td>20.75569</td><td> 1.089171e-95</td></tr>\n",
       "\t<tr><td>Dinka</td><td>LBK      </td><td>Mota</td><td>0.006151451</td><td>0.0004001492</td><td>15.37289</td><td> 2.488035e-53</td></tr>\n",
       "\t<tr><td>Dinka</td><td>Sardinian</td><td>Mota</td><td>0.006109395</td><td>0.0002939580</td><td>20.78323</td><td> 6.139190e-96</td></tr>\n",
       "\t<tr><td>Dinka</td><td>Spanish  </td><td>Mota</td><td>0.006133083</td><td>0.0002860547</td><td>21.44024</td><td>5.631898e-102</td></tr>\n",
       "</tbody>\n",
       "</table>\n"
      ],
      "text/latex": [
       "A tibble: 4 × 7\n",
       "\\begin{tabular}{lllllll}\n",
       " pop1 & pop2 & pop3 & est & se & z & p\\\\\n",
       " <chr> & <chr> & <chr> & <dbl> & <dbl> & <dbl> & <dbl>\\\\\n",
       "\\hline\n",
       "\t Dinka & French    & Mota & 0.006055945 & 0.0002917728 & 20.75569 &  1.089171e-95\\\\\n",
       "\t Dinka & LBK       & Mota & 0.006151451 & 0.0004001492 & 15.37289 &  2.488035e-53\\\\\n",
       "\t Dinka & Sardinian & Mota & 0.006109395 & 0.0002939580 & 20.78323 &  6.139190e-96\\\\\n",
       "\t Dinka & Spanish   & Mota & 0.006133083 & 0.0002860547 & 21.44024 & 5.631898e-102\\\\\n",
       "\\end{tabular}\n"
      ],
      "text/markdown": [
       "\n",
       "A tibble: 4 × 7\n",
       "\n",
       "| pop1 &lt;chr&gt; | pop2 &lt;chr&gt; | pop3 &lt;chr&gt; | est &lt;dbl&gt; | se &lt;dbl&gt; | z &lt;dbl&gt; | p &lt;dbl&gt; |\n",
       "|---|---|---|---|---|---|---|\n",
       "| Dinka | French    | Mota | 0.006055945 | 0.0002917728 | 20.75569 |  1.089171e-95 |\n",
       "| Dinka | LBK       | Mota | 0.006151451 | 0.0004001492 | 15.37289 |  2.488035e-53 |\n",
       "| Dinka | Sardinian | Mota | 0.006109395 | 0.0002939580 | 20.78323 |  6.139190e-96 |\n",
       "| Dinka | Spanish   | Mota | 0.006133083 | 0.0002860547 | 21.44024 | 5.631898e-102 |\n",
       "\n"
      ],
      "text/plain": [
       "  pop1  pop2      pop3 est         se           z        p            \n",
       "1 Dinka French    Mota 0.006055945 0.0002917728 20.75569  1.089171e-95\n",
       "2 Dinka LBK       Mota 0.006151451 0.0004001492 15.37289  2.488035e-53\n",
       "3 Dinka Sardinian Mota 0.006109395 0.0002939580 20.78323  6.139190e-96\n",
       "4 Dinka Spanish   Mota 0.006133083 0.0002860547 21.44024 5.631898e-102"
      ]
     },
     "metadata": {},
     "output_type": "display_data"
    }
   ],
   "source": [
    "dinka_f3admix <- f3(data = f2_blocks,\n",
    "                    pop1 = \"Dinka\",\n",
    "                    pop2 = eurasian_sources,\n",
    "                    pop3 = \"Mota\")\n",
    "\n",
    "dinka_f3admix"
   ]
  },
  {
   "cell_type": "markdown",
   "id": "d08f3d5c",
   "metadata": {},
   "source": [
    "Since the $f_{3}$ is positive, we can't conclude whether an admixture event happened that led to the Dinka populations"
   ]
  },
  {
   "cell_type": "code",
   "execution_count": 29,
   "id": "65eb9c73",
   "metadata": {
    "vscode": {
     "languageId": "r"
    }
   },
   "outputs": [
    {
     "data": {
      "text/html": [
       "<table class=\"dataframe\">\n",
       "<caption>A tibble: 1 × 8</caption>\n",
       "<thead>\n",
       "\t<tr><th scope=col>pop1</th><th scope=col>pop2</th><th scope=col>pop3</th><th scope=col>pop4</th><th scope=col>est</th><th scope=col>se</th><th scope=col>z</th><th scope=col>p</th></tr>\n",
       "\t<tr><th scope=col>&lt;chr&gt;</th><th scope=col>&lt;chr&gt;</th><th scope=col>&lt;chr&gt;</th><th scope=col>&lt;chr&gt;</th><th scope=col>&lt;dbl&gt;</th><th scope=col>&lt;dbl&gt;</th><th scope=col>&lt;dbl&gt;</th><th scope=col>&lt;dbl&gt;</th></tr>\n",
       "</thead>\n",
       "<tbody>\n",
       "\t<tr><td>pan_troglodytes</td><td>AltaiNea</td><td>Mbuti</td><td>French</td><td>0.001475259</td><td>0.0003281996</td><td>4.495008</td><td>6.956749e-06</td></tr>\n",
       "</tbody>\n",
       "</table>\n"
      ],
      "text/latex": [
       "A tibble: 1 × 8\n",
       "\\begin{tabular}{llllllll}\n",
       " pop1 & pop2 & pop3 & pop4 & est & se & z & p\\\\\n",
       " <chr> & <chr> & <chr> & <chr> & <dbl> & <dbl> & <dbl> & <dbl>\\\\\n",
       "\\hline\n",
       "\t pan\\_troglodytes & AltaiNea & Mbuti & French & 0.001475259 & 0.0003281996 & 4.495008 & 6.956749e-06\\\\\n",
       "\\end{tabular}\n"
      ],
      "text/markdown": [
       "\n",
       "A tibble: 1 × 8\n",
       "\n",
       "| pop1 &lt;chr&gt; | pop2 &lt;chr&gt; | pop3 &lt;chr&gt; | pop4 &lt;chr&gt; | est &lt;dbl&gt; | se &lt;dbl&gt; | z &lt;dbl&gt; | p &lt;dbl&gt; |\n",
       "|---|---|---|---|---|---|---|---|\n",
       "| pan_troglodytes | AltaiNea | Mbuti | French | 0.001475259 | 0.0003281996 | 4.495008 | 6.956749e-06 |\n",
       "\n"
      ],
      "text/plain": [
       "  pop1            pop2     pop3  pop4   est         se           z       \n",
       "1 pan_troglodytes AltaiNea Mbuti French 0.001475259 0.0003281996 4.495008\n",
       "  p           \n",
       "1 6.956749e-06"
      ]
     },
     "metadata": {},
     "output_type": "display_data"
    }
   ],
   "source": [
    "neand_french_f4 <- f4(data = f2_blocks,\n",
    "                        pop1 = \"pan_troglodytes\",\n",
    "                        pop2 = \"AltaiNea\",\n",
    "                        pop3 = \"Mbuti\",\n",
    "                        pop4 = \"French\")\n",
    "                        \n",
    "neand_french_f4"
   ]
  },
  {
   "cell_type": "code",
   "execution_count": 30,
   "id": "e00558b4",
   "metadata": {
    "vscode": {
     "languageId": "r"
    }
   },
   "outputs": [
    {
     "data": {
      "text/html": [
       "<table class=\"dataframe\">\n",
       "<caption>A tibble: 1 × 8</caption>\n",
       "<thead>\n",
       "\t<tr><th scope=col>pop1</th><th scope=col>pop2</th><th scope=col>pop3</th><th scope=col>pop4</th><th scope=col>est</th><th scope=col>se</th><th scope=col>z</th><th scope=col>p</th></tr>\n",
       "\t<tr><th scope=col>&lt;chr&gt;</th><th scope=col>&lt;chr&gt;</th><th scope=col>&lt;chr&gt;</th><th scope=col>&lt;chr&gt;</th><th scope=col>&lt;dbl&gt;</th><th scope=col>&lt;dbl&gt;</th><th scope=col>&lt;dbl&gt;</th><th scope=col>&lt;dbl&gt;</th></tr>\n",
       "</thead>\n",
       "<tbody>\n",
       "\t<tr><td>pan_troglodytes</td><td>AltaiNea</td><td>Mbuti</td><td>Han</td><td>0.00178732</td><td>0.000351398</td><td>5.086312</td><td>3.650929e-07</td></tr>\n",
       "</tbody>\n",
       "</table>\n"
      ],
      "text/latex": [
       "A tibble: 1 × 8\n",
       "\\begin{tabular}{llllllll}\n",
       " pop1 & pop2 & pop3 & pop4 & est & se & z & p\\\\\n",
       " <chr> & <chr> & <chr> & <chr> & <dbl> & <dbl> & <dbl> & <dbl>\\\\\n",
       "\\hline\n",
       "\t pan\\_troglodytes & AltaiNea & Mbuti & Han & 0.00178732 & 0.000351398 & 5.086312 & 3.650929e-07\\\\\n",
       "\\end{tabular}\n"
      ],
      "text/markdown": [
       "\n",
       "A tibble: 1 × 8\n",
       "\n",
       "| pop1 &lt;chr&gt; | pop2 &lt;chr&gt; | pop3 &lt;chr&gt; | pop4 &lt;chr&gt; | est &lt;dbl&gt; | se &lt;dbl&gt; | z &lt;dbl&gt; | p &lt;dbl&gt; |\n",
       "|---|---|---|---|---|---|---|---|\n",
       "| pan_troglodytes | AltaiNea | Mbuti | Han | 0.00178732 | 0.000351398 | 5.086312 | 3.650929e-07 |\n",
       "\n"
      ],
      "text/plain": [
       "  pop1            pop2     pop3  pop4 est        se          z       \n",
       "1 pan_troglodytes AltaiNea Mbuti Han  0.00178732 0.000351398 5.086312\n",
       "  p           \n",
       "1 3.650929e-07"
      ]
     },
     "metadata": {},
     "output_type": "display_data"
    }
   ],
   "source": [
    "neand_han_f4 <- f4(data = f2_blocks,\n",
    "                        pop1 = \"pan_troglodytes\",\n",
    "                        pop2 = \"AltaiNea\",\n",
    "                        pop3 = \"Mbuti\",\n",
    "                        pop4 = \"Han\")\n",
    "                        \n",
    "neand_han_f4"
   ]
  },
  {
   "cell_type": "markdown",
   "id": "490f8290",
   "metadata": {},
   "source": [
    "qpWaves allows us to estimate the lower bound of the number of waves that have gone from the right to left populations.\n",
    "\n",
    "Testing for the possibility of hybridization between archaic hominins and European modern populations"
   ]
  },
  {
   "cell_type": "code",
   "execution_count": 32,
   "id": "5406907a",
   "metadata": {
    "vscode": {
     "languageId": "r"
    }
   },
   "outputs": [
    {
     "name": "stdout",
     "output_type": "stream",
     "text": [
      "\u001b[36mℹ Computing f4 stats...\n",
      "\u001b[39m\u001b[36mℹ Computing number of admixture waves...\n",
      "\u001b[39m"
     ]
    },
    {
     "data": {
      "text/html": [
       "<dl>\n",
       "\t<dt>$f4</dt>\n",
       "\t\t<dd><table class=\"dataframe\">\n",
       "<caption>A tibble: 8 × 8</caption>\n",
       "<thead>\n",
       "\t<tr><th scope=col>pop1</th><th scope=col>pop2</th><th scope=col>pop3</th><th scope=col>pop4</th><th scope=col>est</th><th scope=col>se</th><th scope=col>z</th><th scope=col>p</th></tr>\n",
       "\t<tr><th scope=col>&lt;chr&gt;</th><th scope=col>&lt;chr&gt;</th><th scope=col>&lt;chr&gt;</th><th scope=col>&lt;chr&gt;</th><th scope=col>&lt;dbl&gt;</th><th scope=col>&lt;dbl&gt;</th><th scope=col>&lt;dbl&gt;</th><th scope=col>&lt;dbl&gt;</th></tr>\n",
       "</thead>\n",
       "<tbody>\n",
       "\t<tr><td>French</td><td>Spanish</td><td>AltaiNea</td><td>Mota    </td><td>2.061491e-04</td><td>1.005116e-04</td><td>2.05099758</td><td>0.04026718</td></tr>\n",
       "\t<tr><td>French</td><td>Spanish</td><td>AltaiNea</td><td>Yoruba  </td><td>1.999016e-04</td><td>8.256941e-05</td><td>2.42101280</td><td>0.01547733</td></tr>\n",
       "\t<tr><td>French</td><td>Spanish</td><td>AltaiNea</td><td>Denisova</td><td>1.286687e-04</td><td>6.223346e-05</td><td>2.06751728</td><td>0.03868544</td></tr>\n",
       "\t<tr><td>French</td><td>Spanish</td><td>AltaiNea</td><td>Mbuti   </td><td>1.356078e-04</td><td>7.930945e-05</td><td>1.70985682</td><td>0.08729235</td></tr>\n",
       "\t<tr><td>French</td><td>Tuscan </td><td>AltaiNea</td><td>Mota    </td><td>2.119250e-04</td><td>1.782797e-04</td><td>1.18872201</td><td>0.23454908</td></tr>\n",
       "\t<tr><td>French</td><td>Tuscan </td><td>AltaiNea</td><td>Yoruba  </td><td>1.233836e-04</td><td>1.397507e-04</td><td>0.88288330</td><td>0.37729933</td></tr>\n",
       "\t<tr><td>French</td><td>Tuscan </td><td>AltaiNea</td><td>Denisova</td><td>9.013837e-05</td><td>1.019779e-04</td><td>0.88390066</td><td>0.37674984</td></tr>\n",
       "\t<tr><td>French</td><td>Tuscan </td><td>AltaiNea</td><td>Mbuti   </td><td>1.096751e-05</td><td>1.398140e-04</td><td>0.07844359</td><td>0.93747520</td></tr>\n",
       "</tbody>\n",
       "</table>\n",
       "</dd>\n",
       "\t<dt>$rankdrop</dt>\n",
       "\t\t<dd><table class=\"dataframe\">\n",
       "<caption>A tibble: 2 × 7</caption>\n",
       "<thead>\n",
       "\t<tr><th scope=col>f4rank</th><th scope=col>dof</th><th scope=col>chisq</th><th scope=col>p</th><th scope=col>dofdiff</th><th scope=col>chisqdiff</th><th scope=col>p_nested</th></tr>\n",
       "\t<tr><th scope=col>&lt;int&gt;</th><th scope=col>&lt;int&gt;</th><th scope=col>&lt;dbl&gt;</th><th scope=col>&lt;dbl&gt;</th><th scope=col>&lt;int&gt;</th><th scope=col>&lt;dbl&gt;</th><th scope=col>&lt;dbl&gt;</th></tr>\n",
       "</thead>\n",
       "<tbody>\n",
       "\t<tr><td>1</td><td>3</td><td> 1.99914</td><td>0.5725852</td><td> 5</td><td>9.27336</td><td>0.09864508</td></tr>\n",
       "\t<tr><td>0</td><td>8</td><td>11.27250</td><td>0.1867318</td><td>NA</td><td>     NA</td><td>        NA</td></tr>\n",
       "</tbody>\n",
       "</table>\n",
       "</dd>\n",
       "</dl>\n"
      ],
      "text/latex": [
       "\\begin{description}\n",
       "\\item[\\$f4] A tibble: 8 × 8\n",
       "\\begin{tabular}{llllllll}\n",
       " pop1 & pop2 & pop3 & pop4 & est & se & z & p\\\\\n",
       " <chr> & <chr> & <chr> & <chr> & <dbl> & <dbl> & <dbl> & <dbl>\\\\\n",
       "\\hline\n",
       "\t French & Spanish & AltaiNea & Mota     & 2.061491e-04 & 1.005116e-04 & 2.05099758 & 0.04026718\\\\\n",
       "\t French & Spanish & AltaiNea & Yoruba   & 1.999016e-04 & 8.256941e-05 & 2.42101280 & 0.01547733\\\\\n",
       "\t French & Spanish & AltaiNea & Denisova & 1.286687e-04 & 6.223346e-05 & 2.06751728 & 0.03868544\\\\\n",
       "\t French & Spanish & AltaiNea & Mbuti    & 1.356078e-04 & 7.930945e-05 & 1.70985682 & 0.08729235\\\\\n",
       "\t French & Tuscan  & AltaiNea & Mota     & 2.119250e-04 & 1.782797e-04 & 1.18872201 & 0.23454908\\\\\n",
       "\t French & Tuscan  & AltaiNea & Yoruba   & 1.233836e-04 & 1.397507e-04 & 0.88288330 & 0.37729933\\\\\n",
       "\t French & Tuscan  & AltaiNea & Denisova & 9.013837e-05 & 1.019779e-04 & 0.88390066 & 0.37674984\\\\\n",
       "\t French & Tuscan  & AltaiNea & Mbuti    & 1.096751e-05 & 1.398140e-04 & 0.07844359 & 0.93747520\\\\\n",
       "\\end{tabular}\n",
       "\n",
       "\\item[\\$rankdrop] A tibble: 2 × 7\n",
       "\\begin{tabular}{lllllll}\n",
       " f4rank & dof & chisq & p & dofdiff & chisqdiff & p\\_nested\\\\\n",
       " <int> & <int> & <dbl> & <dbl> & <int> & <dbl> & <dbl>\\\\\n",
       "\\hline\n",
       "\t 1 & 3 &  1.99914 & 0.5725852 &  5 & 9.27336 & 0.09864508\\\\\n",
       "\t 0 & 8 & 11.27250 & 0.1867318 & NA &      NA &         NA\\\\\n",
       "\\end{tabular}\n",
       "\n",
       "\\end{description}\n"
      ],
      "text/markdown": [
       "$f4\n",
       ":   \n",
       "A tibble: 8 × 8\n",
       "\n",
       "| pop1 &lt;chr&gt; | pop2 &lt;chr&gt; | pop3 &lt;chr&gt; | pop4 &lt;chr&gt; | est &lt;dbl&gt; | se &lt;dbl&gt; | z &lt;dbl&gt; | p &lt;dbl&gt; |\n",
       "|---|---|---|---|---|---|---|---|\n",
       "| French | Spanish | AltaiNea | Mota     | 2.061491e-04 | 1.005116e-04 | 2.05099758 | 0.04026718 |\n",
       "| French | Spanish | AltaiNea | Yoruba   | 1.999016e-04 | 8.256941e-05 | 2.42101280 | 0.01547733 |\n",
       "| French | Spanish | AltaiNea | Denisova | 1.286687e-04 | 6.223346e-05 | 2.06751728 | 0.03868544 |\n",
       "| French | Spanish | AltaiNea | Mbuti    | 1.356078e-04 | 7.930945e-05 | 1.70985682 | 0.08729235 |\n",
       "| French | Tuscan  | AltaiNea | Mota     | 2.119250e-04 | 1.782797e-04 | 1.18872201 | 0.23454908 |\n",
       "| French | Tuscan  | AltaiNea | Yoruba   | 1.233836e-04 | 1.397507e-04 | 0.88288330 | 0.37729933 |\n",
       "| French | Tuscan  | AltaiNea | Denisova | 9.013837e-05 | 1.019779e-04 | 0.88390066 | 0.37674984 |\n",
       "| French | Tuscan  | AltaiNea | Mbuti    | 1.096751e-05 | 1.398140e-04 | 0.07844359 | 0.93747520 |\n",
       "\n",
       "\n",
       "$rankdrop\n",
       ":   \n",
       "A tibble: 2 × 7\n",
       "\n",
       "| f4rank &lt;int&gt; | dof &lt;int&gt; | chisq &lt;dbl&gt; | p &lt;dbl&gt; | dofdiff &lt;int&gt; | chisqdiff &lt;dbl&gt; | p_nested &lt;dbl&gt; |\n",
       "|---|---|---|---|---|---|---|\n",
       "| 1 | 3 |  1.99914 | 0.5725852 |  5 | 9.27336 | 0.09864508 |\n",
       "| 0 | 8 | 11.27250 | 0.1867318 | NA |      NA |         NA |\n",
       "\n",
       "\n",
       "\n",
       "\n"
      ],
      "text/plain": [
       "$f4\n",
       "\u001b[90m# A tibble: 8 × 8\u001b[39m\n",
       "  pop1   pop2    pop3     pop4           est        se      z      p\n",
       "  \u001b[3m\u001b[90m<chr>\u001b[39m\u001b[23m  \u001b[3m\u001b[90m<chr>\u001b[39m\u001b[23m   \u001b[3m\u001b[90m<chr>\u001b[39m\u001b[23m    \u001b[3m\u001b[90m<chr>\u001b[39m\u001b[23m        \u001b[3m\u001b[90m<dbl>\u001b[39m\u001b[23m     \u001b[3m\u001b[90m<dbl>\u001b[39m\u001b[23m  \u001b[3m\u001b[90m<dbl>\u001b[39m\u001b[23m  \u001b[3m\u001b[90m<dbl>\u001b[39m\u001b[23m\n",
       "\u001b[90m1\u001b[39m French Spanish AltaiNea Mota     0.000\u001b[4m2\u001b[24m\u001b[4m0\u001b[24m\u001b[4m6\u001b[24m  0.000\u001b[4m1\u001b[24m\u001b[4m0\u001b[24m\u001b[4m1\u001b[24m  2.05   0.040\u001b[4m3\u001b[24m\n",
       "\u001b[90m2\u001b[39m French Spanish AltaiNea Yoruba   0.000\u001b[4m2\u001b[24m\u001b[4m0\u001b[24m\u001b[4m0\u001b[24m  0.000\u001b[4m0\u001b[24m\u001b[4m8\u001b[24m\u001b[4m2\u001b[24m6 2.42   0.015\u001b[4m5\u001b[24m\n",
       "\u001b[90m3\u001b[39m French Spanish AltaiNea Denisova 0.000\u001b[4m1\u001b[24m\u001b[4m2\u001b[24m\u001b[4m9\u001b[24m  0.000\u001b[4m0\u001b[24m\u001b[4m6\u001b[24m\u001b[4m2\u001b[24m2 2.07   0.038\u001b[4m7\u001b[24m\n",
       "\u001b[90m4\u001b[39m French Spanish AltaiNea Mbuti    0.000\u001b[4m1\u001b[24m\u001b[4m3\u001b[24m\u001b[4m6\u001b[24m  0.000\u001b[4m0\u001b[24m\u001b[4m7\u001b[24m\u001b[4m9\u001b[24m3 1.71   0.087\u001b[4m3\u001b[24m\n",
       "\u001b[90m5\u001b[39m French Tuscan  AltaiNea Mota     0.000\u001b[4m2\u001b[24m\u001b[4m1\u001b[24m\u001b[4m2\u001b[24m  0.000\u001b[4m1\u001b[24m\u001b[4m7\u001b[24m\u001b[4m8\u001b[24m  1.19   0.235 \n",
       "\u001b[90m6\u001b[39m French Tuscan  AltaiNea Yoruba   0.000\u001b[4m1\u001b[24m\u001b[4m2\u001b[24m\u001b[4m3\u001b[24m  0.000\u001b[4m1\u001b[24m\u001b[4m4\u001b[24m\u001b[4m0\u001b[24m  0.883  0.377 \n",
       "\u001b[90m7\u001b[39m French Tuscan  AltaiNea Denisova 0.000\u001b[4m0\u001b[24m\u001b[4m9\u001b[24m\u001b[4m0\u001b[24m1 0.000\u001b[4m1\u001b[24m\u001b[4m0\u001b[24m\u001b[4m2\u001b[24m  0.884  0.377 \n",
       "\u001b[90m8\u001b[39m French Tuscan  AltaiNea Mbuti    0.000\u001b[4m0\u001b[24m\u001b[4m1\u001b[24m\u001b[4m1\u001b[24m0 0.000\u001b[4m1\u001b[24m\u001b[4m4\u001b[24m\u001b[4m0\u001b[24m  0.078\u001b[4m4\u001b[24m 0.937 \n",
       "\n",
       "$rankdrop\n",
       "\u001b[90m# A tibble: 2 × 7\u001b[39m\n",
       "  f4rank   dof chisq     p dofdiff chisqdiff p_nested\n",
       "   \u001b[3m\u001b[90m<int>\u001b[39m\u001b[23m \u001b[3m\u001b[90m<int>\u001b[39m\u001b[23m \u001b[3m\u001b[90m<dbl>\u001b[39m\u001b[23m \u001b[3m\u001b[90m<dbl>\u001b[39m\u001b[23m   \u001b[3m\u001b[90m<int>\u001b[39m\u001b[23m     \u001b[3m\u001b[90m<dbl>\u001b[39m\u001b[23m    \u001b[3m\u001b[90m<dbl>\u001b[39m\u001b[23m\n",
       "\u001b[90m1\u001b[39m      1     3  2.00 0.573       5      9.27   0.098\u001b[4m6\u001b[24m\n",
       "\u001b[90m2\u001b[39m      0     8 11.3  0.187      \u001b[31mNA\u001b[39m     \u001b[31mNA\u001b[39m     \u001b[31mNA\u001b[39m     \n"
      ]
     },
     "metadata": {},
     "output_type": "display_data"
    }
   ],
   "source": [
    "neand_euras_wave <- qpwave(data = f2_blocks,\n",
    "                            left = c(\"French\",\"Spanish\",\"Tuscan\"),\n",
    "                            right = c(\"AltaiNea\",\"Mota\", \"Yoruba\", \"Denisova\", \"Mbuti\")\n",
    "                    )\n",
    "\n",
    "neand_euras_wave"
   ]
  },
  {
   "cell_type": "code",
   "execution_count": 33,
   "id": "068646a9",
   "metadata": {
    "vscode": {
     "languageId": "r"
    }
   },
   "outputs": [
    {
     "name": "stdout",
     "output_type": "stream",
     "text": [
      "\u001b[36mℹ Computing f4 stats...\n",
      "\u001b[39m\u001b[36mℹ Computing number of admixture waves...\n",
      "\u001b[39m"
     ]
    },
    {
     "data": {
      "text/html": [
       "<dl>\n",
       "\t<dt>$f4</dt>\n",
       "\t\t<dd><table class=\"dataframe\">\n",
       "<caption>A tibble: 16 × 8</caption>\n",
       "<thead>\n",
       "\t<tr><th scope=col>pop1</th><th scope=col>pop2</th><th scope=col>pop3</th><th scope=col>pop4</th><th scope=col>est</th><th scope=col>se</th><th scope=col>z</th><th scope=col>p</th></tr>\n",
       "\t<tr><th scope=col>&lt;chr&gt;</th><th scope=col>&lt;chr&gt;</th><th scope=col>&lt;chr&gt;</th><th scope=col>&lt;chr&gt;</th><th scope=col>&lt;dbl&gt;</th><th scope=col>&lt;dbl&gt;</th><th scope=col>&lt;dbl&gt;</th><th scope=col>&lt;dbl&gt;</th></tr>\n",
       "</thead>\n",
       "<tbody>\n",
       "\t<tr><td>French</td><td>Spanish</td><td>AltaiNea</td><td>Mota    </td><td> 2.061491e-04</td><td>1.005116e-04</td><td> 2.05099758</td><td>0.040267183</td></tr>\n",
       "\t<tr><td>French</td><td>Spanish</td><td>AltaiNea</td><td>Yoruba  </td><td> 1.999016e-04</td><td>8.256941e-05</td><td> 2.42101280</td><td>0.015477332</td></tr>\n",
       "\t<tr><td>French</td><td>Spanish</td><td>AltaiNea</td><td>Denisova</td><td> 1.286687e-04</td><td>6.223346e-05</td><td> 2.06751728</td><td>0.038685438</td></tr>\n",
       "\t<tr><td>French</td><td>Spanish</td><td>AltaiNea</td><td>Mbuti   </td><td> 1.356078e-04</td><td>7.930945e-05</td><td> 1.70985682</td><td>0.087292353</td></tr>\n",
       "\t<tr><td>French</td><td>Tuscan </td><td>AltaiNea</td><td>Mota    </td><td> 2.119250e-04</td><td>1.782797e-04</td><td> 1.18872201</td><td>0.234549077</td></tr>\n",
       "\t<tr><td>French</td><td>Tuscan </td><td>AltaiNea</td><td>Yoruba  </td><td> 1.233836e-04</td><td>1.397507e-04</td><td> 0.88288330</td><td>0.377299328</td></tr>\n",
       "\t<tr><td>French</td><td>Tuscan </td><td>AltaiNea</td><td>Denisova</td><td> 9.013837e-05</td><td>1.019779e-04</td><td> 0.88390066</td><td>0.376749842</td></tr>\n",
       "\t<tr><td>French</td><td>Tuscan </td><td>AltaiNea</td><td>Mbuti   </td><td> 1.096751e-05</td><td>1.398140e-04</td><td> 0.07844359</td><td>0.937475198</td></tr>\n",
       "\t<tr><td>French</td><td>Han    </td><td>AltaiNea</td><td>Mota    </td><td>-6.234677e-04</td><td>3.500173e-04</td><td>-1.78124807</td><td>0.074871934</td></tr>\n",
       "\t<tr><td>French</td><td>Han    </td><td>AltaiNea</td><td>Yoruba  </td><td>-7.797829e-04</td><td>2.948942e-04</td><td>-2.64428020</td><td>0.008186486</td></tr>\n",
       "\t<tr><td>French</td><td>Han    </td><td>AltaiNea</td><td>Denisova</td><td>-1.333523e-04</td><td>1.980999e-04</td><td>-0.67315691</td><td>0.500847474</td></tr>\n",
       "\t<tr><td>French</td><td>Han    </td><td>AltaiNea</td><td>Mbuti   </td><td>-5.263614e-04</td><td>2.823265e-04</td><td>-1.86437110</td><td>0.062269609</td></tr>\n",
       "\t<tr><td>French</td><td>Onge   </td><td>AltaiNea</td><td>Mota    </td><td>-3.629213e-04</td><td>4.151478e-04</td><td>-0.87419795</td><td>0.382010461</td></tr>\n",
       "\t<tr><td>French</td><td>Onge   </td><td>AltaiNea</td><td>Yoruba  </td><td>-8.751389e-04</td><td>3.470242e-04</td><td>-2.52183827</td><td>0.011674337</td></tr>\n",
       "\t<tr><td>French</td><td>Onge   </td><td>AltaiNea</td><td>Denisova</td><td>-9.178906e-05</td><td>2.339873e-04</td><td>-0.39228222</td><td>0.694849702</td></tr>\n",
       "\t<tr><td>French</td><td>Onge   </td><td>AltaiNea</td><td>Mbuti   </td><td>-6.425771e-04</td><td>3.342582e-04</td><td>-1.92239772</td><td>0.054555732</td></tr>\n",
       "</tbody>\n",
       "</table>\n",
       "</dd>\n",
       "\t<dt>$rankdrop</dt>\n",
       "\t\t<dd><table class=\"dataframe\">\n",
       "<caption>A tibble: 4 × 7</caption>\n",
       "<thead>\n",
       "\t<tr><th scope=col>f4rank</th><th scope=col>dof</th><th scope=col>chisq</th><th scope=col>p</th><th scope=col>dofdiff</th><th scope=col>chisqdiff</th><th scope=col>p_nested</th></tr>\n",
       "\t<tr><th scope=col>&lt;int&gt;</th><th scope=col>&lt;int&gt;</th><th scope=col>&lt;dbl&gt;</th><th scope=col>&lt;dbl&gt;</th><th scope=col>&lt;int&gt;</th><th scope=col>&lt;dbl&gt;</th><th scope=col>&lt;dbl&gt;</th></tr>\n",
       "</thead>\n",
       "<tbody>\n",
       "\t<tr><td>3</td><td> 1</td><td> 0.3170641</td><td>0.57337736</td><td> 3</td><td> 1.495875</td><td>0.683222811</td></tr>\n",
       "\t<tr><td>2</td><td> 4</td><td> 1.8129387</td><td>0.77011431</td><td> 5</td><td> 4.854360</td><td>0.433911740</td></tr>\n",
       "\t<tr><td>1</td><td> 9</td><td> 6.6672991</td><td>0.67171344</td><td> 7</td><td>23.520374</td><td>0.001382861</td></tr>\n",
       "\t<tr><td>0</td><td>16</td><td>30.1876734</td><td>0.01705307</td><td>NA</td><td>       NA</td><td>         NA</td></tr>\n",
       "</tbody>\n",
       "</table>\n",
       "</dd>\n",
       "</dl>\n"
      ],
      "text/latex": [
       "\\begin{description}\n",
       "\\item[\\$f4] A tibble: 16 × 8\n",
       "\\begin{tabular}{llllllll}\n",
       " pop1 & pop2 & pop3 & pop4 & est & se & z & p\\\\\n",
       " <chr> & <chr> & <chr> & <chr> & <dbl> & <dbl> & <dbl> & <dbl>\\\\\n",
       "\\hline\n",
       "\t French & Spanish & AltaiNea & Mota     &  2.061491e-04 & 1.005116e-04 &  2.05099758 & 0.040267183\\\\\n",
       "\t French & Spanish & AltaiNea & Yoruba   &  1.999016e-04 & 8.256941e-05 &  2.42101280 & 0.015477332\\\\\n",
       "\t French & Spanish & AltaiNea & Denisova &  1.286687e-04 & 6.223346e-05 &  2.06751728 & 0.038685438\\\\\n",
       "\t French & Spanish & AltaiNea & Mbuti    &  1.356078e-04 & 7.930945e-05 &  1.70985682 & 0.087292353\\\\\n",
       "\t French & Tuscan  & AltaiNea & Mota     &  2.119250e-04 & 1.782797e-04 &  1.18872201 & 0.234549077\\\\\n",
       "\t French & Tuscan  & AltaiNea & Yoruba   &  1.233836e-04 & 1.397507e-04 &  0.88288330 & 0.377299328\\\\\n",
       "\t French & Tuscan  & AltaiNea & Denisova &  9.013837e-05 & 1.019779e-04 &  0.88390066 & 0.376749842\\\\\n",
       "\t French & Tuscan  & AltaiNea & Mbuti    &  1.096751e-05 & 1.398140e-04 &  0.07844359 & 0.937475198\\\\\n",
       "\t French & Han     & AltaiNea & Mota     & -6.234677e-04 & 3.500173e-04 & -1.78124807 & 0.074871934\\\\\n",
       "\t French & Han     & AltaiNea & Yoruba   & -7.797829e-04 & 2.948942e-04 & -2.64428020 & 0.008186486\\\\\n",
       "\t French & Han     & AltaiNea & Denisova & -1.333523e-04 & 1.980999e-04 & -0.67315691 & 0.500847474\\\\\n",
       "\t French & Han     & AltaiNea & Mbuti    & -5.263614e-04 & 2.823265e-04 & -1.86437110 & 0.062269609\\\\\n",
       "\t French & Onge    & AltaiNea & Mota     & -3.629213e-04 & 4.151478e-04 & -0.87419795 & 0.382010461\\\\\n",
       "\t French & Onge    & AltaiNea & Yoruba   & -8.751389e-04 & 3.470242e-04 & -2.52183827 & 0.011674337\\\\\n",
       "\t French & Onge    & AltaiNea & Denisova & -9.178906e-05 & 2.339873e-04 & -0.39228222 & 0.694849702\\\\\n",
       "\t French & Onge    & AltaiNea & Mbuti    & -6.425771e-04 & 3.342582e-04 & -1.92239772 & 0.054555732\\\\\n",
       "\\end{tabular}\n",
       "\n",
       "\\item[\\$rankdrop] A tibble: 4 × 7\n",
       "\\begin{tabular}{lllllll}\n",
       " f4rank & dof & chisq & p & dofdiff & chisqdiff & p\\_nested\\\\\n",
       " <int> & <int> & <dbl> & <dbl> & <int> & <dbl> & <dbl>\\\\\n",
       "\\hline\n",
       "\t 3 &  1 &  0.3170641 & 0.57337736 &  3 &  1.495875 & 0.683222811\\\\\n",
       "\t 2 &  4 &  1.8129387 & 0.77011431 &  5 &  4.854360 & 0.433911740\\\\\n",
       "\t 1 &  9 &  6.6672991 & 0.67171344 &  7 & 23.520374 & 0.001382861\\\\\n",
       "\t 0 & 16 & 30.1876734 & 0.01705307 & NA &        NA &          NA\\\\\n",
       "\\end{tabular}\n",
       "\n",
       "\\end{description}\n"
      ],
      "text/markdown": [
       "$f4\n",
       ":   \n",
       "A tibble: 16 × 8\n",
       "\n",
       "| pop1 &lt;chr&gt; | pop2 &lt;chr&gt; | pop3 &lt;chr&gt; | pop4 &lt;chr&gt; | est &lt;dbl&gt; | se &lt;dbl&gt; | z &lt;dbl&gt; | p &lt;dbl&gt; |\n",
       "|---|---|---|---|---|---|---|---|\n",
       "| French | Spanish | AltaiNea | Mota     |  2.061491e-04 | 1.005116e-04 |  2.05099758 | 0.040267183 |\n",
       "| French | Spanish | AltaiNea | Yoruba   |  1.999016e-04 | 8.256941e-05 |  2.42101280 | 0.015477332 |\n",
       "| French | Spanish | AltaiNea | Denisova |  1.286687e-04 | 6.223346e-05 |  2.06751728 | 0.038685438 |\n",
       "| French | Spanish | AltaiNea | Mbuti    |  1.356078e-04 | 7.930945e-05 |  1.70985682 | 0.087292353 |\n",
       "| French | Tuscan  | AltaiNea | Mota     |  2.119250e-04 | 1.782797e-04 |  1.18872201 | 0.234549077 |\n",
       "| French | Tuscan  | AltaiNea | Yoruba   |  1.233836e-04 | 1.397507e-04 |  0.88288330 | 0.377299328 |\n",
       "| French | Tuscan  | AltaiNea | Denisova |  9.013837e-05 | 1.019779e-04 |  0.88390066 | 0.376749842 |\n",
       "| French | Tuscan  | AltaiNea | Mbuti    |  1.096751e-05 | 1.398140e-04 |  0.07844359 | 0.937475198 |\n",
       "| French | Han     | AltaiNea | Mota     | -6.234677e-04 | 3.500173e-04 | -1.78124807 | 0.074871934 |\n",
       "| French | Han     | AltaiNea | Yoruba   | -7.797829e-04 | 2.948942e-04 | -2.64428020 | 0.008186486 |\n",
       "| French | Han     | AltaiNea | Denisova | -1.333523e-04 | 1.980999e-04 | -0.67315691 | 0.500847474 |\n",
       "| French | Han     | AltaiNea | Mbuti    | -5.263614e-04 | 2.823265e-04 | -1.86437110 | 0.062269609 |\n",
       "| French | Onge    | AltaiNea | Mota     | -3.629213e-04 | 4.151478e-04 | -0.87419795 | 0.382010461 |\n",
       "| French | Onge    | AltaiNea | Yoruba   | -8.751389e-04 | 3.470242e-04 | -2.52183827 | 0.011674337 |\n",
       "| French | Onge    | AltaiNea | Denisova | -9.178906e-05 | 2.339873e-04 | -0.39228222 | 0.694849702 |\n",
       "| French | Onge    | AltaiNea | Mbuti    | -6.425771e-04 | 3.342582e-04 | -1.92239772 | 0.054555732 |\n",
       "\n",
       "\n",
       "$rankdrop\n",
       ":   \n",
       "A tibble: 4 × 7\n",
       "\n",
       "| f4rank &lt;int&gt; | dof &lt;int&gt; | chisq &lt;dbl&gt; | p &lt;dbl&gt; | dofdiff &lt;int&gt; | chisqdiff &lt;dbl&gt; | p_nested &lt;dbl&gt; |\n",
       "|---|---|---|---|---|---|---|\n",
       "| 3 |  1 |  0.3170641 | 0.57337736 |  3 |  1.495875 | 0.683222811 |\n",
       "| 2 |  4 |  1.8129387 | 0.77011431 |  5 |  4.854360 | 0.433911740 |\n",
       "| 1 |  9 |  6.6672991 | 0.67171344 |  7 | 23.520374 | 0.001382861 |\n",
       "| 0 | 16 | 30.1876734 | 0.01705307 | NA |        NA |          NA |\n",
       "\n",
       "\n",
       "\n",
       "\n"
      ],
      "text/plain": [
       "$f4\n",
       "\u001b[90m# A tibble: 16 × 8\u001b[39m\n",
       "   pop1   pop2    pop3     pop4            est        se       z       p\n",
       "   \u001b[3m\u001b[90m<chr>\u001b[39m\u001b[23m  \u001b[3m\u001b[90m<chr>\u001b[39m\u001b[23m   \u001b[3m\u001b[90m<chr>\u001b[39m\u001b[23m    \u001b[3m\u001b[90m<chr>\u001b[39m\u001b[23m         \u001b[3m\u001b[90m<dbl>\u001b[39m\u001b[23m     \u001b[3m\u001b[90m<dbl>\u001b[39m\u001b[23m   \u001b[3m\u001b[90m<dbl>\u001b[39m\u001b[23m   \u001b[3m\u001b[90m<dbl>\u001b[39m\u001b[23m\n",
       "\u001b[90m 1\u001b[39m French Spanish AltaiNea Mota      0.000\u001b[4m2\u001b[24m\u001b[4m0\u001b[24m\u001b[4m6\u001b[24m  0.000\u001b[4m1\u001b[24m\u001b[4m0\u001b[24m\u001b[4m1\u001b[24m   2.05   0.040\u001b[4m3\u001b[24m \n",
       "\u001b[90m 2\u001b[39m French Spanish AltaiNea Yoruba    0.000\u001b[4m2\u001b[24m\u001b[4m0\u001b[24m\u001b[4m0\u001b[24m  0.000\u001b[4m0\u001b[24m\u001b[4m8\u001b[24m\u001b[4m2\u001b[24m6  2.42   0.015\u001b[4m5\u001b[24m \n",
       "\u001b[90m 3\u001b[39m French Spanish AltaiNea Denisova  0.000\u001b[4m1\u001b[24m\u001b[4m2\u001b[24m\u001b[4m9\u001b[24m  0.000\u001b[4m0\u001b[24m\u001b[4m6\u001b[24m\u001b[4m2\u001b[24m2  2.07   0.038\u001b[4m7\u001b[24m \n",
       "\u001b[90m 4\u001b[39m French Spanish AltaiNea Mbuti     0.000\u001b[4m1\u001b[24m\u001b[4m3\u001b[24m\u001b[4m6\u001b[24m  0.000\u001b[4m0\u001b[24m\u001b[4m7\u001b[24m\u001b[4m9\u001b[24m3  1.71   0.087\u001b[4m3\u001b[24m \n",
       "\u001b[90m 5\u001b[39m French Tuscan  AltaiNea Mota      0.000\u001b[4m2\u001b[24m\u001b[4m1\u001b[24m\u001b[4m2\u001b[24m  0.000\u001b[4m1\u001b[24m\u001b[4m7\u001b[24m\u001b[4m8\u001b[24m   1.19   0.235  \n",
       "\u001b[90m 6\u001b[39m French Tuscan  AltaiNea Yoruba    0.000\u001b[4m1\u001b[24m\u001b[4m2\u001b[24m\u001b[4m3\u001b[24m  0.000\u001b[4m1\u001b[24m\u001b[4m4\u001b[24m\u001b[4m0\u001b[24m   0.883  0.377  \n",
       "\u001b[90m 7\u001b[39m French Tuscan  AltaiNea Denisova  0.000\u001b[4m0\u001b[24m\u001b[4m9\u001b[24m\u001b[4m0\u001b[24m1 0.000\u001b[4m1\u001b[24m\u001b[4m0\u001b[24m\u001b[4m2\u001b[24m   0.884  0.377  \n",
       "\u001b[90m 8\u001b[39m French Tuscan  AltaiNea Mbuti     0.000\u001b[4m0\u001b[24m\u001b[4m1\u001b[24m\u001b[4m1\u001b[24m0 0.000\u001b[4m1\u001b[24m\u001b[4m4\u001b[24m\u001b[4m0\u001b[24m   0.078\u001b[4m4\u001b[24m 0.937  \n",
       "\u001b[90m 9\u001b[39m French Han     AltaiNea Mota     -\u001b[31m0\u001b[39m\u001b[31m.\u001b[39m\u001b[31m000\u001b[39m\u001b[31m\u001b[4m6\u001b[24m\u001b[4m2\u001b[24m\u001b[4m3\u001b[24m\u001b[39m  0.000\u001b[4m3\u001b[24m\u001b[4m5\u001b[24m\u001b[4m0\u001b[24m  -\u001b[31m1\u001b[39m\u001b[31m.\u001b[39m\u001b[31m78\u001b[39m   0.074\u001b[4m9\u001b[24m \n",
       "\u001b[90m10\u001b[39m French Han     AltaiNea Yoruba   -\u001b[31m0\u001b[39m\u001b[31m.\u001b[39m\u001b[31m000\u001b[39m\u001b[31m\u001b[4m7\u001b[24m\u001b[4m8\u001b[24m\u001b[4m0\u001b[24m\u001b[39m  0.000\u001b[4m2\u001b[24m\u001b[4m9\u001b[24m\u001b[4m5\u001b[24m  -\u001b[31m2\u001b[39m\u001b[31m.\u001b[39m\u001b[31m64\u001b[39m   0.008\u001b[4m1\u001b[24m\u001b[4m9\u001b[24m\n",
       "\u001b[90m11\u001b[39m French Han     AltaiNea Denisova -\u001b[31m0\u001b[39m\u001b[31m.\u001b[39m\u001b[31m000\u001b[39m\u001b[31m\u001b[4m1\u001b[24m\u001b[4m3\u001b[24m\u001b[4m3\u001b[24m\u001b[39m  0.000\u001b[4m1\u001b[24m\u001b[4m9\u001b[24m\u001b[4m8\u001b[24m  -\u001b[31m0\u001b[39m\u001b[31m.\u001b[39m\u001b[31m673\u001b[39m  0.501  \n",
       "\u001b[90m12\u001b[39m French Han     AltaiNea Mbuti    -\u001b[31m0\u001b[39m\u001b[31m.\u001b[39m\u001b[31m000\u001b[39m\u001b[31m\u001b[4m5\u001b[24m\u001b[4m2\u001b[24m\u001b[4m6\u001b[24m\u001b[39m  0.000\u001b[4m2\u001b[24m\u001b[4m8\u001b[24m\u001b[4m2\u001b[24m  -\u001b[31m1\u001b[39m\u001b[31m.\u001b[39m\u001b[31m86\u001b[39m   0.062\u001b[4m3\u001b[24m \n",
       "\u001b[90m13\u001b[39m French Onge    AltaiNea Mota     -\u001b[31m0\u001b[39m\u001b[31m.\u001b[39m\u001b[31m000\u001b[39m\u001b[31m\u001b[4m3\u001b[24m\u001b[4m6\u001b[24m\u001b[4m3\u001b[24m\u001b[39m  0.000\u001b[4m4\u001b[24m\u001b[4m1\u001b[24m\u001b[4m5\u001b[24m  -\u001b[31m0\u001b[39m\u001b[31m.\u001b[39m\u001b[31m874\u001b[39m  0.382  \n",
       "\u001b[90m14\u001b[39m French Onge    AltaiNea Yoruba   -\u001b[31m0\u001b[39m\u001b[31m.\u001b[39m\u001b[31m000\u001b[39m\u001b[31m\u001b[4m8\u001b[24m\u001b[4m7\u001b[24m\u001b[4m5\u001b[24m\u001b[39m  0.000\u001b[4m3\u001b[24m\u001b[4m4\u001b[24m\u001b[4m7\u001b[24m  -\u001b[31m2\u001b[39m\u001b[31m.\u001b[39m\u001b[31m52\u001b[39m   0.011\u001b[4m7\u001b[24m \n",
       "\u001b[90m15\u001b[39m French Onge    AltaiNea Denisova -\u001b[31m0\u001b[39m\u001b[31m.\u001b[39m\u001b[31m000\u001b[4m0\u001b[24m\u001b[39m\u001b[31m\u001b[4m9\u001b[24m\u001b[4m1\u001b[24m8\u001b[39m 0.000\u001b[4m2\u001b[24m\u001b[4m3\u001b[24m\u001b[4m4\u001b[24m  -\u001b[31m0\u001b[39m\u001b[31m.\u001b[39m\u001b[31m392\u001b[39m  0.695  \n",
       "\u001b[90m16\u001b[39m French Onge    AltaiNea Mbuti    -\u001b[31m0\u001b[39m\u001b[31m.\u001b[39m\u001b[31m000\u001b[39m\u001b[31m\u001b[4m6\u001b[24m\u001b[4m4\u001b[24m\u001b[4m3\u001b[24m\u001b[39m  0.000\u001b[4m3\u001b[24m\u001b[4m3\u001b[24m\u001b[4m4\u001b[24m  -\u001b[31m1\u001b[39m\u001b[31m.\u001b[39m\u001b[31m92\u001b[39m   0.054\u001b[4m6\u001b[24m \n",
       "\n",
       "$rankdrop\n",
       "\u001b[90m# A tibble: 4 × 7\u001b[39m\n",
       "  f4rank   dof  chisq      p dofdiff chisqdiff p_nested\n",
       "   \u001b[3m\u001b[90m<int>\u001b[39m\u001b[23m \u001b[3m\u001b[90m<int>\u001b[39m\u001b[23m  \u001b[3m\u001b[90m<dbl>\u001b[39m\u001b[23m  \u001b[3m\u001b[90m<dbl>\u001b[39m\u001b[23m   \u001b[3m\u001b[90m<int>\u001b[39m\u001b[23m     \u001b[3m\u001b[90m<dbl>\u001b[39m\u001b[23m    \u001b[3m\u001b[90m<dbl>\u001b[39m\u001b[23m\n",
       "\u001b[90m1\u001b[39m      3     1  0.317 0.573        3      1.50  0.683  \n",
       "\u001b[90m2\u001b[39m      2     4  1.81  0.770        5      4.85  0.434  \n",
       "\u001b[90m3\u001b[39m      1     9  6.67  0.672        7     23.5   0.001\u001b[4m3\u001b[24m\u001b[4m8\u001b[24m\n",
       "\u001b[90m4\u001b[39m      0    16 30.2   0.017\u001b[4m1\u001b[24m      \u001b[31mNA\u001b[39m     \u001b[31mNA\u001b[39m    \u001b[31mNA\u001b[39m      \n"
      ]
     },
     "metadata": {},
     "output_type": "display_data"
    }
   ],
   "source": [
    "neand_euras_wave <- qpwave(data = f2_blocks,\n",
    "                            left = c(\"French\",\"Spanish\",\"Tuscan\", \"Han\", \"Onge\"),\n",
    "                            right = c(\"AltaiNea\",\"Mota\", \"Yoruba\", \"Denisova\", \"Mbuti\")\n",
    "                    )\n",
    "\n",
    "neand_euras_wave"
   ]
  },
  {
   "cell_type": "markdown",
   "id": "455edfe0",
   "metadata": {},
   "source": [
    "Estimating proportion of admixture"
   ]
  },
  {
   "cell_type": "code",
   "execution_count": 36,
   "id": "25fe710d",
   "metadata": {
    "vscode": {
     "languageId": "r"
    }
   },
   "outputs": [
    {
     "name": "stdout",
     "output_type": "stream",
     "text": [
      "\u001b[36mℹ Computing f4 stats...\n",
      "\u001b[39m\u001b[36mℹ Computing admixture weights...\n",
      "\u001b[39m\u001b[36mℹ Computing standard errors...\n",
      "\u001b[39m\u001b[36mℹ Computing number of admixture waves...\n",
      "\u001b[39m"
     ]
    },
    {
     "data": {
      "text/html": [
       "<table class=\"dataframe\">\n",
       "<caption>A tibble: 7 × 14</caption>\n",
       "<thead>\n",
       "\t<tr><th scope=col>pat</th><th scope=col>wt</th><th scope=col>dof</th><th scope=col>chisq</th><th scope=col>p</th><th scope=col>f4rank</th><th scope=col>Loschbour</th><th scope=col>LBK</th><th scope=col>Yamnaya</th><th scope=col>feasible</th><th scope=col>best</th><th scope=col>dofdiff</th><th scope=col>chisqdiff</th><th scope=col>p_nested</th></tr>\n",
       "\t<tr><th scope=col>&lt;chr&gt;</th><th scope=col>&lt;dbl&gt;</th><th scope=col>&lt;dbl&gt;</th><th scope=col>&lt;dbl&gt;</th><th scope=col>&lt;dbl&gt;</th><th scope=col>&lt;dbl&gt;</th><th scope=col>&lt;dbl&gt;</th><th scope=col>&lt;dbl&gt;</th><th scope=col>&lt;dbl&gt;</th><th scope=col>&lt;lgl&gt;</th><th scope=col>&lt;lgl&gt;</th><th scope=col>&lt;dbl&gt;</th><th scope=col>&lt;dbl&gt;</th><th scope=col>&lt;dbl&gt;</th></tr>\n",
       "</thead>\n",
       "<tbody>\n",
       "\t<tr><td>000</td><td>0</td><td>2</td><td> 5.638671</td><td>0.0596455703</td><td>2</td><td>-0.3861933</td><td>0.1612197</td><td>1.2249736</td><td>FALSE</td><td>  NA</td><td>NA</td><td>        NA</td><td>NA</td></tr>\n",
       "\t<tr><td>001</td><td>1</td><td>3</td><td> 7.480266</td><td>0.0580676721</td><td>1</td><td> 0.5358352</td><td>0.4641648</td><td>       NA</td><td> TRUE</td><td>TRUE</td><td> 0</td><td> 1.6457562</td><td> 0</td></tr>\n",
       "\t<tr><td>010</td><td>1</td><td>3</td><td> 5.834510</td><td>0.1199452119</td><td>1</td><td>-0.8282722</td><td>       NA</td><td>1.8282722</td><td>FALSE</td><td>TRUE</td><td> 0</td><td>-0.3734753</td><td> 1</td></tr>\n",
       "\t<tr><td>100</td><td>1</td><td>3</td><td> 6.207985</td><td>0.1019182842</td><td>1</td><td>        NA</td><td>0.2712389</td><td>0.7287611</td><td> TRUE</td><td>TRUE</td><td>NA</td><td>        NA</td><td>NA</td></tr>\n",
       "\t<tr><td>011</td><td>2</td><td>4</td><td>15.027899</td><td>0.0046437011</td><td>0</td><td> 1.0000000</td><td>       NA</td><td>       NA</td><td> TRUE</td><td>  NA</td><td>NA</td><td>        NA</td><td>NA</td></tr>\n",
       "\t<tr><td>101</td><td>2</td><td>4</td><td>18.669740</td><td>0.0009124781</td><td>0</td><td>        NA</td><td>1.0000000</td><td>       NA</td><td> TRUE</td><td>  NA</td><td>NA</td><td>        NA</td><td>NA</td></tr>\n",
       "\t<tr><td>110</td><td>2</td><td>4</td><td>10.522204</td><td>0.0324925054</td><td>0</td><td>        NA</td><td>       NA</td><td>1.0000000</td><td> TRUE</td><td>  NA</td><td>NA</td><td>        NA</td><td>NA</td></tr>\n",
       "</tbody>\n",
       "</table>\n"
      ],
      "text/latex": [
       "A tibble: 7 × 14\n",
       "\\begin{tabular}{llllllllllllll}\n",
       " pat & wt & dof & chisq & p & f4rank & Loschbour & LBK & Yamnaya & feasible & best & dofdiff & chisqdiff & p\\_nested\\\\\n",
       " <chr> & <dbl> & <dbl> & <dbl> & <dbl> & <dbl> & <dbl> & <dbl> & <dbl> & <lgl> & <lgl> & <dbl> & <dbl> & <dbl>\\\\\n",
       "\\hline\n",
       "\t 000 & 0 & 2 &  5.638671 & 0.0596455703 & 2 & -0.3861933 & 0.1612197 & 1.2249736 & FALSE &   NA & NA &         NA & NA\\\\\n",
       "\t 001 & 1 & 3 &  7.480266 & 0.0580676721 & 1 &  0.5358352 & 0.4641648 &        NA &  TRUE & TRUE &  0 &  1.6457562 &  0\\\\\n",
       "\t 010 & 1 & 3 &  5.834510 & 0.1199452119 & 1 & -0.8282722 &        NA & 1.8282722 & FALSE & TRUE &  0 & -0.3734753 &  1\\\\\n",
       "\t 100 & 1 & 3 &  6.207985 & 0.1019182842 & 1 &         NA & 0.2712389 & 0.7287611 &  TRUE & TRUE & NA &         NA & NA\\\\\n",
       "\t 011 & 2 & 4 & 15.027899 & 0.0046437011 & 0 &  1.0000000 &        NA &        NA &  TRUE &   NA & NA &         NA & NA\\\\\n",
       "\t 101 & 2 & 4 & 18.669740 & 0.0009124781 & 0 &         NA & 1.0000000 &        NA &  TRUE &   NA & NA &         NA & NA\\\\\n",
       "\t 110 & 2 & 4 & 10.522204 & 0.0324925054 & 0 &         NA &        NA & 1.0000000 &  TRUE &   NA & NA &         NA & NA\\\\\n",
       "\\end{tabular}\n"
      ],
      "text/markdown": [
       "\n",
       "A tibble: 7 × 14\n",
       "\n",
       "| pat &lt;chr&gt; | wt &lt;dbl&gt; | dof &lt;dbl&gt; | chisq &lt;dbl&gt; | p &lt;dbl&gt; | f4rank &lt;dbl&gt; | Loschbour &lt;dbl&gt; | LBK &lt;dbl&gt; | Yamnaya &lt;dbl&gt; | feasible &lt;lgl&gt; | best &lt;lgl&gt; | dofdiff &lt;dbl&gt; | chisqdiff &lt;dbl&gt; | p_nested &lt;dbl&gt; |\n",
       "|---|---|---|---|---|---|---|---|---|---|---|---|---|---|\n",
       "| 000 | 0 | 2 |  5.638671 | 0.0596455703 | 2 | -0.3861933 | 0.1612197 | 1.2249736 | FALSE |   NA | NA |         NA | NA |\n",
       "| 001 | 1 | 3 |  7.480266 | 0.0580676721 | 1 |  0.5358352 | 0.4641648 |        NA |  TRUE | TRUE |  0 |  1.6457562 |  0 |\n",
       "| 010 | 1 | 3 |  5.834510 | 0.1199452119 | 1 | -0.8282722 |        NA | 1.8282722 | FALSE | TRUE |  0 | -0.3734753 |  1 |\n",
       "| 100 | 1 | 3 |  6.207985 | 0.1019182842 | 1 |         NA | 0.2712389 | 0.7287611 |  TRUE | TRUE | NA |         NA | NA |\n",
       "| 011 | 2 | 4 | 15.027899 | 0.0046437011 | 0 |  1.0000000 |        NA |        NA |  TRUE |   NA | NA |         NA | NA |\n",
       "| 101 | 2 | 4 | 18.669740 | 0.0009124781 | 0 |         NA | 1.0000000 |        NA |  TRUE |   NA | NA |         NA | NA |\n",
       "| 110 | 2 | 4 | 10.522204 | 0.0324925054 | 0 |         NA |        NA | 1.0000000 |  TRUE |   NA | NA |         NA | NA |\n",
       "\n"
      ],
      "text/plain": [
       "  pat wt dof chisq     p            f4rank Loschbour  LBK       Yamnaya  \n",
       "1 000 0  2    5.638671 0.0596455703 2      -0.3861933 0.1612197 1.2249736\n",
       "2 001 1  3    7.480266 0.0580676721 1       0.5358352 0.4641648        NA\n",
       "3 010 1  3    5.834510 0.1199452119 1      -0.8282722        NA 1.8282722\n",
       "4 100 1  3    6.207985 0.1019182842 1              NA 0.2712389 0.7287611\n",
       "5 011 2  4   15.027899 0.0046437011 0       1.0000000        NA        NA\n",
       "6 101 2  4   18.669740 0.0009124781 0              NA 1.0000000        NA\n",
       "7 110 2  4   10.522204 0.0324925054 0              NA        NA 1.0000000\n",
       "  feasible best dofdiff chisqdiff  p_nested\n",
       "1 FALSE      NA NA              NA NA      \n",
       "2  TRUE    TRUE  0       1.6457562  0      \n",
       "3 FALSE    TRUE  0      -0.3734753  1      \n",
       "4  TRUE    TRUE NA              NA NA      \n",
       "5  TRUE      NA NA              NA NA      \n",
       "6  TRUE      NA NA              NA NA      \n",
       "7  TRUE      NA NA              NA NA      "
      ]
     },
     "metadata": {},
     "output_type": "display_data"
    }
   ],
   "source": [
    "french_adm <- qpadm(data = f2_blocks,\n",
    "                    left = c(\"Loschbour\", \"LBK\", \"Yamnaya\"),\n",
    "                    right = c(\"Mbuti\", \"Mota\", \"Dinka\", \"Yoruba\", \"Han\"),\n",
    "                    target= \"French\")\n",
    "\n",
    "french_adm$popdrop"
   ]
  },
  {
   "cell_type": "code",
   "execution_count": 37,
   "id": "2b2fc594",
   "metadata": {
    "vscode": {
     "languageId": "r"
    }
   },
   "outputs": [
    {
     "name": "stdout",
     "output_type": "stream",
     "text": [
      "\u001b[36mℹ Computing f4 stats...\n",
      "\u001b[39m\u001b[36mℹ Computing admixture weights...\n",
      "\u001b[39m\u001b[36mℹ Computing standard errors...\n",
      "\u001b[39m\u001b[36mℹ Computing number of admixture waves...\n",
      "\u001b[39m"
     ]
    },
    {
     "data": {
      "text/html": [
       "<table class=\"dataframe\">\n",
       "<caption>A tibble: 7 × 14</caption>\n",
       "<thead>\n",
       "\t<tr><th scope=col>pat</th><th scope=col>wt</th><th scope=col>dof</th><th scope=col>chisq</th><th scope=col>p</th><th scope=col>f4rank</th><th scope=col>Loschbour</th><th scope=col>LBK</th><th scope=col>Yamnaya</th><th scope=col>feasible</th><th scope=col>best</th><th scope=col>dofdiff</th><th scope=col>chisqdiff</th><th scope=col>p_nested</th></tr>\n",
       "\t<tr><th scope=col>&lt;chr&gt;</th><th scope=col>&lt;dbl&gt;</th><th scope=col>&lt;dbl&gt;</th><th scope=col>&lt;dbl&gt;</th><th scope=col>&lt;dbl&gt;</th><th scope=col>&lt;dbl&gt;</th><th scope=col>&lt;dbl&gt;</th><th scope=col>&lt;dbl&gt;</th><th scope=col>&lt;dbl&gt;</th><th scope=col>&lt;lgl&gt;</th><th scope=col>&lt;lgl&gt;</th><th scope=col>&lt;dbl&gt;</th><th scope=col>&lt;dbl&gt;</th><th scope=col>&lt;dbl&gt;</th></tr>\n",
       "</thead>\n",
       "<tbody>\n",
       "\t<tr><td>000</td><td>0</td><td>2</td><td> 3.627023</td><td>0.163080489</td><td>2</td><td>-0.03828894</td><td>0.3428343</td><td>0.6954547</td><td>FALSE</td><td>  NA</td><td>NA</td><td>      NA</td><td>NA</td></tr>\n",
       "\t<tr><td>001</td><td>1</td><td>3</td><td> 6.466376</td><td>0.090998015</td><td>1</td><td> 0.45306262</td><td>0.5469374</td><td>       NA</td><td> TRUE</td><td>TRUE</td><td> 0</td><td>1.257792</td><td> 0</td></tr>\n",
       "\t<tr><td>010</td><td>1</td><td>3</td><td> 5.208585</td><td>0.157145407</td><td>1</td><td>-0.86345966</td><td>       NA</td><td>1.8634597</td><td>FALSE</td><td>TRUE</td><td> 0</td><td>1.503297</td><td> 0</td></tr>\n",
       "\t<tr><td>100</td><td>1</td><td>3</td><td> 3.705288</td><td>0.295096647</td><td>1</td><td>         NA</td><td>0.3519784</td><td>0.6480216</td><td> TRUE</td><td>TRUE</td><td>NA</td><td>      NA</td><td>NA</td></tr>\n",
       "\t<tr><td>011</td><td>2</td><td>4</td><td>18.061662</td><td>0.001200319</td><td>0</td><td> 1.00000000</td><td>       NA</td><td>       NA</td><td> TRUE</td><td>  NA</td><td>NA</td><td>      NA</td><td>NA</td></tr>\n",
       "\t<tr><td>101</td><td>2</td><td>4</td><td>15.099246</td><td>0.004499739</td><td>0</td><td>         NA</td><td>1.0000000</td><td>       NA</td><td> TRUE</td><td>  NA</td><td>NA</td><td>      NA</td><td>NA</td></tr>\n",
       "\t<tr><td>110</td><td>2</td><td>4</td><td>11.252973</td><td>0.023863340</td><td>0</td><td>         NA</td><td>       NA</td><td>1.0000000</td><td> TRUE</td><td>  NA</td><td>NA</td><td>      NA</td><td>NA</td></tr>\n",
       "</tbody>\n",
       "</table>\n"
      ],
      "text/latex": [
       "A tibble: 7 × 14\n",
       "\\begin{tabular}{llllllllllllll}\n",
       " pat & wt & dof & chisq & p & f4rank & Loschbour & LBK & Yamnaya & feasible & best & dofdiff & chisqdiff & p\\_nested\\\\\n",
       " <chr> & <dbl> & <dbl> & <dbl> & <dbl> & <dbl> & <dbl> & <dbl> & <dbl> & <lgl> & <lgl> & <dbl> & <dbl> & <dbl>\\\\\n",
       "\\hline\n",
       "\t 000 & 0 & 2 &  3.627023 & 0.163080489 & 2 & -0.03828894 & 0.3428343 & 0.6954547 & FALSE &   NA & NA &       NA & NA\\\\\n",
       "\t 001 & 1 & 3 &  6.466376 & 0.090998015 & 1 &  0.45306262 & 0.5469374 &        NA &  TRUE & TRUE &  0 & 1.257792 &  0\\\\\n",
       "\t 010 & 1 & 3 &  5.208585 & 0.157145407 & 1 & -0.86345966 &        NA & 1.8634597 & FALSE & TRUE &  0 & 1.503297 &  0\\\\\n",
       "\t 100 & 1 & 3 &  3.705288 & 0.295096647 & 1 &          NA & 0.3519784 & 0.6480216 &  TRUE & TRUE & NA &       NA & NA\\\\\n",
       "\t 011 & 2 & 4 & 18.061662 & 0.001200319 & 0 &  1.00000000 &        NA &        NA &  TRUE &   NA & NA &       NA & NA\\\\\n",
       "\t 101 & 2 & 4 & 15.099246 & 0.004499739 & 0 &          NA & 1.0000000 &        NA &  TRUE &   NA & NA &       NA & NA\\\\\n",
       "\t 110 & 2 & 4 & 11.252973 & 0.023863340 & 0 &          NA &        NA & 1.0000000 &  TRUE &   NA & NA &       NA & NA\\\\\n",
       "\\end{tabular}\n"
      ],
      "text/markdown": [
       "\n",
       "A tibble: 7 × 14\n",
       "\n",
       "| pat &lt;chr&gt; | wt &lt;dbl&gt; | dof &lt;dbl&gt; | chisq &lt;dbl&gt; | p &lt;dbl&gt; | f4rank &lt;dbl&gt; | Loschbour &lt;dbl&gt; | LBK &lt;dbl&gt; | Yamnaya &lt;dbl&gt; | feasible &lt;lgl&gt; | best &lt;lgl&gt; | dofdiff &lt;dbl&gt; | chisqdiff &lt;dbl&gt; | p_nested &lt;dbl&gt; |\n",
       "|---|---|---|---|---|---|---|---|---|---|---|---|---|---|\n",
       "| 000 | 0 | 2 |  3.627023 | 0.163080489 | 2 | -0.03828894 | 0.3428343 | 0.6954547 | FALSE |   NA | NA |       NA | NA |\n",
       "| 001 | 1 | 3 |  6.466376 | 0.090998015 | 1 |  0.45306262 | 0.5469374 |        NA |  TRUE | TRUE |  0 | 1.257792 |  0 |\n",
       "| 010 | 1 | 3 |  5.208585 | 0.157145407 | 1 | -0.86345966 |        NA | 1.8634597 | FALSE | TRUE |  0 | 1.503297 |  0 |\n",
       "| 100 | 1 | 3 |  3.705288 | 0.295096647 | 1 |          NA | 0.3519784 | 0.6480216 |  TRUE | TRUE | NA |       NA | NA |\n",
       "| 011 | 2 | 4 | 18.061662 | 0.001200319 | 0 |  1.00000000 |        NA |        NA |  TRUE |   NA | NA |       NA | NA |\n",
       "| 101 | 2 | 4 | 15.099246 | 0.004499739 | 0 |          NA | 1.0000000 |        NA |  TRUE |   NA | NA |       NA | NA |\n",
       "| 110 | 2 | 4 | 11.252973 | 0.023863340 | 0 |          NA |        NA | 1.0000000 |  TRUE |   NA | NA |       NA | NA |\n",
       "\n"
      ],
      "text/plain": [
       "  pat wt dof chisq     p           f4rank Loschbour   LBK       Yamnaya  \n",
       "1 000 0  2    3.627023 0.163080489 2      -0.03828894 0.3428343 0.6954547\n",
       "2 001 1  3    6.466376 0.090998015 1       0.45306262 0.5469374        NA\n",
       "3 010 1  3    5.208585 0.157145407 1      -0.86345966        NA 1.8634597\n",
       "4 100 1  3    3.705288 0.295096647 1               NA 0.3519784 0.6480216\n",
       "5 011 2  4   18.061662 0.001200319 0       1.00000000        NA        NA\n",
       "6 101 2  4   15.099246 0.004499739 0               NA 1.0000000        NA\n",
       "7 110 2  4   11.252973 0.023863340 0               NA        NA 1.0000000\n",
       "  feasible best dofdiff chisqdiff p_nested\n",
       "1 FALSE      NA NA            NA  NA      \n",
       "2  TRUE    TRUE  0      1.257792   0      \n",
       "3 FALSE    TRUE  0      1.503297   0      \n",
       "4  TRUE    TRUE NA            NA  NA      \n",
       "5  TRUE      NA NA            NA  NA      \n",
       "6  TRUE      NA NA            NA  NA      \n",
       "7  TRUE      NA NA            NA  NA      "
      ]
     },
     "metadata": {},
     "output_type": "display_data"
    }
   ],
   "source": [
    "basque_adm <- qpadm(data = f2_blocks,\n",
    "                    left = c(\"Loschbour\", \"LBK\", \"Yamnaya\"),\n",
    "                    right = c(\"Mbuti\", \"Mota\", \"Dinka\", \"Yoruba\", \"Han\"),\n",
    "                    target= \"Basque\")\n",
    "\n",
    "basque_adm$popdrop"
   ]
  },
  {
   "cell_type": "code",
   "execution_count": 45,
   "id": "a4ca779a",
   "metadata": {
    "vscode": {
     "languageId": "r"
    }
   },
   "outputs": [
    {
     "data": {
      "text/html": [
       "<table class=\"dataframe\">\n",
       "<caption>A matrix: 6 × 2 of type chr</caption>\n",
       "<thead>\n",
       "\t<tr><th scope=col>from</th><th scope=col>to</th></tr>\n",
       "</thead>\n",
       "<tbody>\n",
       "\t<tr><td>R        </td><td>Mbuti    </td></tr>\n",
       "\t<tr><td>R        </td><td>eAfr     </td></tr>\n",
       "\t<tr><td>eAfr     </td><td>Dinka    </td></tr>\n",
       "\t<tr><td>eAfr     </td><td>outAfrica</td></tr>\n",
       "\t<tr><td>outAfrica</td><td>Han      </td></tr>\n",
       "\t<tr><td>outAfrica</td><td>Loschbour</td></tr>\n",
       "</tbody>\n",
       "</table>\n"
      ],
      "text/latex": [
       "A matrix: 6 × 2 of type chr\n",
       "\\begin{tabular}{ll}\n",
       " from & to\\\\\n",
       "\\hline\n",
       "\t R         & Mbuti    \\\\\n",
       "\t R         & eAfr     \\\\\n",
       "\t eAfr      & Dinka    \\\\\n",
       "\t eAfr      & outAfrica\\\\\n",
       "\t outAfrica & Han      \\\\\n",
       "\t outAfrica & Loschbour\\\\\n",
       "\\end{tabular}\n"
      ],
      "text/markdown": [
       "\n",
       "A matrix: 6 × 2 of type chr\n",
       "\n",
       "| from | to |\n",
       "|---|---|\n",
       "| R         | Mbuti     |\n",
       "| R         | eAfr      |\n",
       "| eAfr      | Dinka     |\n",
       "| eAfr      | outAfrica |\n",
       "| outAfrica | Han       |\n",
       "| outAfrica | Loschbour |\n",
       "\n"
      ],
      "text/plain": [
       "     from      to       \n",
       "[1,] R         Mbuti    \n",
       "[2,] R         eAfr     \n",
       "[3,] eAfr      Dinka    \n",
       "[4,] eAfr      outAfrica\n",
       "[5,] outAfrica Han      \n",
       "[6,] outAfrica Loschbour"
      ]
     },
     "metadata": {},
     "output_type": "display_data"
    },
    {
     "data": {
      "text/html": [
       "TRUE"
      ],
      "text/latex": [
       "TRUE"
      ],
      "text/markdown": [
       "TRUE"
      ],
      "text/plain": [
       "[1] TRUE"
      ]
     },
     "metadata": {},
     "output_type": "display_data"
    },
    {
     "data": {
      "image/png": "[encoded data removed]",
      "text/plain": [
       "plot without title"
      ]
     },
     "metadata": {
      "image/png": {
       "height": 420,
       "width": 420
      }
     },
     "output_type": "display_data"
    }
   ],
   "source": [
    "base_edges <- matrix(\n",
    "                c(\"R\", \"Mbuti\",\n",
    "                  \"R\", \"eAfr\",\n",
    "                  \"eAfr\", \"Dinka\",\n",
    "                  \"eAfr\", \"outAfrica\",\n",
    "                  \"outAfrica\", \"Han\",\n",
    "                  \"outAfrica\", \"Loschbour\"),\n",
    "                ncol=2,\n",
    "                byrow = TRUE,\n",
    "                dimnames=list(NULL, c(\"from\",\"to\")))\n",
    "\n",
    "base_edges\n",
    "\n",
    "base_igraph <- base_edges %>% edges_to_igraph()\n",
    "is_valid(base_igraph)\n",
    "\n",
    "# Static plot\n",
    "base_igraph %>% plot_graph()\n",
    "\n",
    "# Interactive plot\n",
    "#base_igraph %>% plotly_graph()"
   ]
  },
  {
   "cell_type": "code",
   "execution_count": 47,
   "id": "9d84a096",
   "metadata": {
    "vscode": {
     "languageId": "r"
    }
   },
   "outputs": [
    {
     "data": {
      "text/html": [
       "<table class=\"dataframe\">\n",
       "<caption>A tibble: 6 × 9</caption>\n",
       "<thead>\n",
       "\t<tr><th scope=col>pop1</th><th scope=col>pop2</th><th scope=col>pop3</th><th scope=col>est</th><th scope=col>se</th><th scope=col>fit</th><th scope=col>diff</th><th scope=col>z</th><th scope=col>p</th></tr>\n",
       "\t<tr><th scope=col>&lt;chr&gt;</th><th scope=col>&lt;chr&gt;</th><th scope=col>&lt;chr&gt;</th><th scope=col>&lt;dbl&gt;</th><th scope=col>&lt;dbl&gt;</th><th scope=col>&lt;dbl&gt;</th><th scope=col>&lt;dbl&gt;</th><th scope=col>&lt;dbl&gt;</th><th scope=col>&lt;dbl&gt;</th></tr>\n",
       "</thead>\n",
       "<tbody>\n",
       "\t<tr><td>Mbuti</td><td>Dinka    </td><td>Dinka    </td><td>0.02405428</td><td>0.0002952023</td><td>0.02405096</td><td> 3.320856e-06</td><td> 0.01124942</td><td>0.9910244</td></tr>\n",
       "\t<tr><td>Mbuti</td><td>Dinka    </td><td>Han      </td><td>0.02175712</td><td>0.0003134527</td><td>0.02181393</td><td>-5.681144e-05</td><td>-0.18124406</td><td>0.8561760</td></tr>\n",
       "\t<tr><td>Mbuti</td><td>Dinka    </td><td>Loschbour</td><td>0.02196970</td><td>0.0003570995</td><td>0.02181393</td><td> 1.557684e-04</td><td> 0.43620439</td><td>0.6626884</td></tr>\n",
       "\t<tr><td>Mbuti</td><td>Han      </td><td>Han      </td><td>0.07115365</td><td>0.0005367435</td><td>0.07122417</td><td>-7.052640e-05</td><td>-0.13139684</td><td>0.8954614</td></tr>\n",
       "\t<tr><td>Mbuti</td><td>Han      </td><td>Loschbour</td><td>0.05305283</td><td>0.0005883651</td><td>0.05299298</td><td> 5.984967e-05</td><td> 0.10172198</td><td>0.9189774</td></tr>\n",
       "\t<tr><td>Mbuti</td><td>Loschbour</td><td>Loschbour</td><td>0.09123081</td><td>0.0012056983</td><td>0.09098259</td><td> 2.482190e-04</td><td> 0.20587159</td><td>0.8368912</td></tr>\n",
       "</tbody>\n",
       "</table>\n"
      ],
      "text/latex": [
       "A tibble: 6 × 9\n",
       "\\begin{tabular}{lllllllll}\n",
       " pop1 & pop2 & pop3 & est & se & fit & diff & z & p\\\\\n",
       " <chr> & <chr> & <chr> & <dbl> & <dbl> & <dbl> & <dbl> & <dbl> & <dbl>\\\\\n",
       "\\hline\n",
       "\t Mbuti & Dinka     & Dinka     & 0.02405428 & 0.0002952023 & 0.02405096 &  3.320856e-06 &  0.01124942 & 0.9910244\\\\\n",
       "\t Mbuti & Dinka     & Han       & 0.02175712 & 0.0003134527 & 0.02181393 & -5.681144e-05 & -0.18124406 & 0.8561760\\\\\n",
       "\t Mbuti & Dinka     & Loschbour & 0.02196970 & 0.0003570995 & 0.02181393 &  1.557684e-04 &  0.43620439 & 0.6626884\\\\\n",
       "\t Mbuti & Han       & Han       & 0.07115365 & 0.0005367435 & 0.07122417 & -7.052640e-05 & -0.13139684 & 0.8954614\\\\\n",
       "\t Mbuti & Han       & Loschbour & 0.05305283 & 0.0005883651 & 0.05299298 &  5.984967e-05 &  0.10172198 & 0.9189774\\\\\n",
       "\t Mbuti & Loschbour & Loschbour & 0.09123081 & 0.0012056983 & 0.09098259 &  2.482190e-04 &  0.20587159 & 0.8368912\\\\\n",
       "\\end{tabular}\n"
      ],
      "text/markdown": [
       "\n",
       "A tibble: 6 × 9\n",
       "\n",
       "| pop1 &lt;chr&gt; | pop2 &lt;chr&gt; | pop3 &lt;chr&gt; | est &lt;dbl&gt; | se &lt;dbl&gt; | fit &lt;dbl&gt; | diff &lt;dbl&gt; | z &lt;dbl&gt; | p &lt;dbl&gt; |\n",
       "|---|---|---|---|---|---|---|---|---|\n",
       "| Mbuti | Dinka     | Dinka     | 0.02405428 | 0.0002952023 | 0.02405096 |  3.320856e-06 |  0.01124942 | 0.9910244 |\n",
       "| Mbuti | Dinka     | Han       | 0.02175712 | 0.0003134527 | 0.02181393 | -5.681144e-05 | -0.18124406 | 0.8561760 |\n",
       "| Mbuti | Dinka     | Loschbour | 0.02196970 | 0.0003570995 | 0.02181393 |  1.557684e-04 |  0.43620439 | 0.6626884 |\n",
       "| Mbuti | Han       | Han       | 0.07115365 | 0.0005367435 | 0.07122417 | -7.052640e-05 | -0.13139684 | 0.8954614 |\n",
       "| Mbuti | Han       | Loschbour | 0.05305283 | 0.0005883651 | 0.05299298 |  5.984967e-05 |  0.10172198 | 0.9189774 |\n",
       "| Mbuti | Loschbour | Loschbour | 0.09123081 | 0.0012056983 | 0.09098259 |  2.482190e-04 |  0.20587159 | 0.8368912 |\n",
       "\n"
      ],
      "text/plain": [
       "  pop1  pop2      pop3      est        se           fit        diff         \n",
       "1 Mbuti Dinka     Dinka     0.02405428 0.0002952023 0.02405096  3.320856e-06\n",
       "2 Mbuti Dinka     Han       0.02175712 0.0003134527 0.02181393 -5.681144e-05\n",
       "3 Mbuti Dinka     Loschbour 0.02196970 0.0003570995 0.02181393  1.557684e-04\n",
       "4 Mbuti Han       Han       0.07115365 0.0005367435 0.07122417 -7.052640e-05\n",
       "5 Mbuti Han       Loschbour 0.05305283 0.0005883651 0.05299298  5.984967e-05\n",
       "6 Mbuti Loschbour Loschbour 0.09123081 0.0012056983 0.09098259  2.482190e-04\n",
       "  z           p        \n",
       "1  0.01124942 0.9910244\n",
       "2 -0.18124406 0.8561760\n",
       "3  0.43620439 0.6626884\n",
       "4 -0.13139684 0.8954614\n",
       "5  0.10172198 0.9189774\n",
       "6  0.20587159 0.8368912"
      ]
     },
     "metadata": {},
     "output_type": "display_data"
    },
    {
     "data": {
      "text/html": [
       "<table class=\"dataframe\">\n",
       "<caption>A tibble: 0 × 9</caption>\n",
       "<thead>\n",
       "\t<tr><th scope=col>pop1</th><th scope=col>pop2</th><th scope=col>pop3</th><th scope=col>est</th><th scope=col>se</th><th scope=col>fit</th><th scope=col>diff</th><th scope=col>z</th><th scope=col>p</th></tr>\n",
       "\t<tr><th scope=col>&lt;chr&gt;</th><th scope=col>&lt;chr&gt;</th><th scope=col>&lt;chr&gt;</th><th scope=col>&lt;dbl&gt;</th><th scope=col>&lt;dbl&gt;</th><th scope=col>&lt;dbl&gt;</th><th scope=col>&lt;dbl&gt;</th><th scope=col>&lt;dbl&gt;</th><th scope=col>&lt;dbl&gt;</th></tr>\n",
       "</thead>\n",
       "<tbody>\n",
       "</tbody>\n",
       "</table>\n"
      ],
      "text/latex": [
       "A tibble: 0 × 9\n",
       "\\begin{tabular}{lllllllll}\n",
       " pop1 & pop2 & pop3 & est & se & fit & diff & z & p\\\\\n",
       " <chr> & <chr> & <chr> & <dbl> & <dbl> & <dbl> & <dbl> & <dbl> & <dbl>\\\\\n",
       "\\hline\n",
       "\\end{tabular}\n"
      ],
      "text/markdown": [
       "\n",
       "A tibble: 0 × 9\n",
       "\n",
       "| pop1 &lt;chr&gt; | pop2 &lt;chr&gt; | pop3 &lt;chr&gt; | est &lt;dbl&gt; | se &lt;dbl&gt; | fit &lt;dbl&gt; | diff &lt;dbl&gt; | z &lt;dbl&gt; | p &lt;dbl&gt; |\n",
       "|---|---|---|---|---|---|---|---|---|\n",
       "\n"
      ],
      "text/plain": [
       "     pop1 pop2 pop3 est se fit diff z p"
      ]
     },
     "metadata": {},
     "output_type": "display_data"
    }
   ],
   "source": [
    "base_qpgraph <- qpgraph(data = f2_blocks, graph = base_igraph)\n",
    "\n",
    "base_qpgraph$f3\n",
    "\n",
    "base_qpgraph$f3 %>% filter(abs(z)>2)"
   ]
  },
  {
   "cell_type": "code",
   "execution_count": 50,
   "id": "1f11bb34",
   "metadata": {
    "vscode": {
     "languageId": "r"
    }
   },
   "outputs": [
    {
     "data": {
      "image/png": "[encoded data removed]",
      "text/plain": [
       "plot without title"
      ]
     },
     "metadata": {
      "image/png": {
       "height": 420,
       "width": 420
      }
     },
     "output_type": "display_data"
    }
   ],
   "source": [
    "base_qpgraph$edges %>% plot_graph()"
   ]
  },
  {
   "cell_type": "markdown",
   "id": "a1684f70",
   "metadata": {},
   "source": [
    "Choosing the wrong outgroup"
   ]
  },
  {
   "cell_type": "code",
   "execution_count": 53,
   "id": "470d82d5",
   "metadata": {
    "vscode": {
     "languageId": "r"
    }
   },
   "outputs": [
    {
     "data": {
      "text/html": [
       "<table class=\"dataframe\">\n",
       "<caption>A matrix: 6 × 2 of type chr</caption>\n",
       "<thead>\n",
       "\t<tr><th scope=col>from</th><th scope=col>to</th></tr>\n",
       "</thead>\n",
       "<tbody>\n",
       "\t<tr><td>R        </td><td>Dinka    </td></tr>\n",
       "\t<tr><td>R        </td><td>eAfr     </td></tr>\n",
       "\t<tr><td>eAfr     </td><td>Mbuti    </td></tr>\n",
       "\t<tr><td>eAfr     </td><td>outAfrica</td></tr>\n",
       "\t<tr><td>outAfrica</td><td>Han      </td></tr>\n",
       "\t<tr><td>outAfrica</td><td>Loschbour</td></tr>\n",
       "</tbody>\n",
       "</table>\n"
      ],
      "text/latex": [
       "A matrix: 6 × 2 of type chr\n",
       "\\begin{tabular}{ll}\n",
       " from & to\\\\\n",
       "\\hline\n",
       "\t R         & Dinka    \\\\\n",
       "\t R         & eAfr     \\\\\n",
       "\t eAfr      & Mbuti    \\\\\n",
       "\t eAfr      & outAfrica\\\\\n",
       "\t outAfrica & Han      \\\\\n",
       "\t outAfrica & Loschbour\\\\\n",
       "\\end{tabular}\n"
      ],
      "text/markdown": [
       "\n",
       "A matrix: 6 × 2 of type chr\n",
       "\n",
       "| from | to |\n",
       "|---|---|\n",
       "| R         | Dinka     |\n",
       "| R         | eAfr      |\n",
       "| eAfr      | Mbuti     |\n",
       "| eAfr      | outAfrica |\n",
       "| outAfrica | Han       |\n",
       "| outAfrica | Loschbour |\n",
       "\n"
      ],
      "text/plain": [
       "     from      to       \n",
       "[1,] R         Dinka    \n",
       "[2,] R         eAfr     \n",
       "[3,] eAfr      Mbuti    \n",
       "[4,] eAfr      outAfrica\n",
       "[5,] outAfrica Han      \n",
       "[6,] outAfrica Loschbour"
      ]
     },
     "metadata": {},
     "output_type": "display_data"
    },
    {
     "data": {
      "text/html": [
       "TRUE"
      ],
      "text/latex": [
       "TRUE"
      ],
      "text/markdown": [
       "TRUE"
      ],
      "text/plain": [
       "[1] TRUE"
      ]
     },
     "metadata": {},
     "output_type": "display_data"
    },
    {
     "data": {
      "image/png": "[encoded data removed]",
      "text/plain": [
       "plot without title"
      ]
     },
     "metadata": {
      "image/png": {
       "height": 420,
       "width": 420
      }
     },
     "output_type": "display_data"
    }
   ],
   "source": [
    "base_swapped_edges <- matrix(\n",
    "                        c(\"R\", \"Dinka\",\n",
    "                          \"R\", \"eAfr\",\n",
    "                          \"eAfr\", \"Mbuti\",\n",
    "                          \"eAfr\", \"outAfrica\",\n",
    "                          \"outAfrica\", \"Han\",\n",
    "                          \"outAfrica\", \"Loschbour\"),\n",
    "                        ncol=2,\n",
    "                        byrow = TRUE,\n",
    "                        dimnames=list(NULL, c(\"from\",\"to\")))\n",
    "\n",
    "base_swapped_edges\n",
    "\n",
    "base_swapped_igraph <- base_swapped_edges %>% edges_to_igraph()\n",
    "is_valid(base_swapped_igraph)\n",
    "\n",
    "# Static plot\n",
    "base_swapped_igraph %>% plot_graph()\n",
    "\n",
    "# Interactive plot\n",
    "#base_igraph %>% plotly_graph()"
   ]
  },
  {
   "cell_type": "code",
   "execution_count": 54,
   "id": "ca9b7088",
   "metadata": {
    "vscode": {
     "languageId": "r"
    }
   },
   "outputs": [
    {
     "data": {
      "text/html": [
       "<table class=\"dataframe\">\n",
       "<caption>A tibble: 6 × 9</caption>\n",
       "<thead>\n",
       "\t<tr><th scope=col>pop1</th><th scope=col>pop2</th><th scope=col>pop3</th><th scope=col>est</th><th scope=col>se</th><th scope=col>fit</th><th scope=col>diff</th><th scope=col>z</th><th scope=col>p</th></tr>\n",
       "\t<tr><th scope=col>&lt;chr&gt;</th><th scope=col>&lt;chr&gt;</th><th scope=col>&lt;chr&gt;</th><th scope=col>&lt;dbl&gt;</th><th scope=col>&lt;dbl&gt;</th><th scope=col>&lt;dbl&gt;</th><th scope=col>&lt;dbl&gt;</th><th scope=col>&lt;dbl&gt;</th><th scope=col>&lt;dbl&gt;</th></tr>\n",
       "</thead>\n",
       "<tbody>\n",
       "\t<tr><td>Dinka</td><td>Mbuti    </td><td>Mbuti    </td><td>0.024054276</td><td>0.0002952023</td><td>0.024049783</td><td> 4.492663e-06</td><td> 0.01521893</td><td>0.9878575</td></tr>\n",
       "\t<tr><td>Dinka</td><td>Mbuti    </td><td>Han      </td><td>0.002297153</td><td>0.0002131561</td><td>0.002237532</td><td> 5.962052e-05</td><td> 0.27970364</td><td>0.7797049</td></tr>\n",
       "\t<tr><td>Dinka</td><td>Mbuti    </td><td>Loschbour</td><td>0.002084573</td><td>0.0002699543</td><td>0.002237532</td><td>-1.529593e-04</td><td>-0.56661197</td><td>0.5709778</td></tr>\n",
       "\t<tr><td>Dinka</td><td>Han      </td><td>Han      </td><td>0.051693677</td><td>0.0004530605</td><td>0.051647188</td><td> 4.648966e-05</td><td> 0.10261247</td><td>0.9182705</td></tr>\n",
       "\t<tr><td>Dinka</td><td>Han      </td><td>Loschbour</td><td>0.033380282</td><td>0.0004915479</td><td>0.033415595</td><td>-3.531297e-05</td><td>-0.07184035</td><td>0.9427290</td></tr>\n",
       "\t<tr><td>Dinka</td><td>Loschbour</td><td>Loschbour</td><td>0.071345681</td><td>0.0011719758</td><td>0.071392403</td><td>-4.672208e-05</td><td>-0.03986608</td><td>0.9681999</td></tr>\n",
       "</tbody>\n",
       "</table>\n"
      ],
      "text/latex": [
       "A tibble: 6 × 9\n",
       "\\begin{tabular}{lllllllll}\n",
       " pop1 & pop2 & pop3 & est & se & fit & diff & z & p\\\\\n",
       " <chr> & <chr> & <chr> & <dbl> & <dbl> & <dbl> & <dbl> & <dbl> & <dbl>\\\\\n",
       "\\hline\n",
       "\t Dinka & Mbuti     & Mbuti     & 0.024054276 & 0.0002952023 & 0.024049783 &  4.492663e-06 &  0.01521893 & 0.9878575\\\\\n",
       "\t Dinka & Mbuti     & Han       & 0.002297153 & 0.0002131561 & 0.002237532 &  5.962052e-05 &  0.27970364 & 0.7797049\\\\\n",
       "\t Dinka & Mbuti     & Loschbour & 0.002084573 & 0.0002699543 & 0.002237532 & -1.529593e-04 & -0.56661197 & 0.5709778\\\\\n",
       "\t Dinka & Han       & Han       & 0.051693677 & 0.0004530605 & 0.051647188 &  4.648966e-05 &  0.10261247 & 0.9182705\\\\\n",
       "\t Dinka & Han       & Loschbour & 0.033380282 & 0.0004915479 & 0.033415595 & -3.531297e-05 & -0.07184035 & 0.9427290\\\\\n",
       "\t Dinka & Loschbour & Loschbour & 0.071345681 & 0.0011719758 & 0.071392403 & -4.672208e-05 & -0.03986608 & 0.9681999\\\\\n",
       "\\end{tabular}\n"
      ],
      "text/markdown": [
       "\n",
       "A tibble: 6 × 9\n",
       "\n",
       "| pop1 &lt;chr&gt; | pop2 &lt;chr&gt; | pop3 &lt;chr&gt; | est &lt;dbl&gt; | se &lt;dbl&gt; | fit &lt;dbl&gt; | diff &lt;dbl&gt; | z &lt;dbl&gt; | p &lt;dbl&gt; |\n",
       "|---|---|---|---|---|---|---|---|---|\n",
       "| Dinka | Mbuti     | Mbuti     | 0.024054276 | 0.0002952023 | 0.024049783 |  4.492663e-06 |  0.01521893 | 0.9878575 |\n",
       "| Dinka | Mbuti     | Han       | 0.002297153 | 0.0002131561 | 0.002237532 |  5.962052e-05 |  0.27970364 | 0.7797049 |\n",
       "| Dinka | Mbuti     | Loschbour | 0.002084573 | 0.0002699543 | 0.002237532 | -1.529593e-04 | -0.56661197 | 0.5709778 |\n",
       "| Dinka | Han       | Han       | 0.051693677 | 0.0004530605 | 0.051647188 |  4.648966e-05 |  0.10261247 | 0.9182705 |\n",
       "| Dinka | Han       | Loschbour | 0.033380282 | 0.0004915479 | 0.033415595 | -3.531297e-05 | -0.07184035 | 0.9427290 |\n",
       "| Dinka | Loschbour | Loschbour | 0.071345681 | 0.0011719758 | 0.071392403 | -4.672208e-05 | -0.03986608 | 0.9681999 |\n",
       "\n"
      ],
      "text/plain": [
       "  pop1  pop2      pop3      est         se           fit         diff         \n",
       "1 Dinka Mbuti     Mbuti     0.024054276 0.0002952023 0.024049783  4.492663e-06\n",
       "2 Dinka Mbuti     Han       0.002297153 0.0002131561 0.002237532  5.962052e-05\n",
       "3 Dinka Mbuti     Loschbour 0.002084573 0.0002699543 0.002237532 -1.529593e-04\n",
       "4 Dinka Han       Han       0.051693677 0.0004530605 0.051647188  4.648966e-05\n",
       "5 Dinka Han       Loschbour 0.033380282 0.0004915479 0.033415595 -3.531297e-05\n",
       "6 Dinka Loschbour Loschbour 0.071345681 0.0011719758 0.071392403 -4.672208e-05\n",
       "  z           p        \n",
       "1  0.01521893 0.9878575\n",
       "2  0.27970364 0.7797049\n",
       "3 -0.56661197 0.5709778\n",
       "4  0.10261247 0.9182705\n",
       "5 -0.07184035 0.9427290\n",
       "6 -0.03986608 0.9681999"
      ]
     },
     "metadata": {},
     "output_type": "display_data"
    },
    {
     "data": {
      "text/html": [
       "<table class=\"dataframe\">\n",
       "<caption>A tibble: 0 × 9</caption>\n",
       "<thead>\n",
       "\t<tr><th scope=col>pop1</th><th scope=col>pop2</th><th scope=col>pop3</th><th scope=col>est</th><th scope=col>se</th><th scope=col>fit</th><th scope=col>diff</th><th scope=col>z</th><th scope=col>p</th></tr>\n",
       "\t<tr><th scope=col>&lt;chr&gt;</th><th scope=col>&lt;chr&gt;</th><th scope=col>&lt;chr&gt;</th><th scope=col>&lt;dbl&gt;</th><th scope=col>&lt;dbl&gt;</th><th scope=col>&lt;dbl&gt;</th><th scope=col>&lt;dbl&gt;</th><th scope=col>&lt;dbl&gt;</th><th scope=col>&lt;dbl&gt;</th></tr>\n",
       "</thead>\n",
       "<tbody>\n",
       "</tbody>\n",
       "</table>\n"
      ],
      "text/latex": [
       "A tibble: 0 × 9\n",
       "\\begin{tabular}{lllllllll}\n",
       " pop1 & pop2 & pop3 & est & se & fit & diff & z & p\\\\\n",
       " <chr> & <chr> & <chr> & <dbl> & <dbl> & <dbl> & <dbl> & <dbl> & <dbl>\\\\\n",
       "\\hline\n",
       "\\end{tabular}\n"
      ],
      "text/markdown": [
       "\n",
       "A tibble: 0 × 9\n",
       "\n",
       "| pop1 &lt;chr&gt; | pop2 &lt;chr&gt; | pop3 &lt;chr&gt; | est &lt;dbl&gt; | se &lt;dbl&gt; | fit &lt;dbl&gt; | diff &lt;dbl&gt; | z &lt;dbl&gt; | p &lt;dbl&gt; |\n",
       "|---|---|---|---|---|---|---|---|---|\n",
       "\n"
      ],
      "text/plain": [
       "     pop1 pop2 pop3 est se fit diff z p"
      ]
     },
     "metadata": {},
     "output_type": "display_data"
    }
   ],
   "source": [
    "base_swapped_qpgraph <- qpgraph(data = f2_blocks, graph = base_swapped_igraph)\n",
    "\n",
    "base_swapped_qpgraph$f3\n",
    "\n",
    "base_swapped_qpgraph$f3 %>% filter(abs(z)>2)"
   ]
  },
  {
   "cell_type": "markdown",
   "id": "3566bb37",
   "metadata": {},
   "source": [
    "Compare the two models"
   ]
  },
  {
   "cell_type": "code",
   "execution_count": 55,
   "id": "a7ddff92",
   "metadata": {
    "vscode": {
     "languageId": "r"
    }
   },
   "outputs": [
    {
     "data": {
      "text/html": [
       "<dl>\n",
       "\t<dt>$diff</dt>\n",
       "\t\t<dd>-0.00646985015112944</dd>\n",
       "\t<dt>$se</dt>\n",
       "\t\t<dd><table class=\"dataframe\">\n",
       "<caption>A matrix: 1 × 1 of type dbl</caption>\n",
       "<tbody>\n",
       "\t<tr><td>0.06827826</td></tr>\n",
       "</tbody>\n",
       "</table>\n",
       "</dd>\n",
       "\t<dt>$z</dt>\n",
       "\t\t<dd><table class=\"dataframe\">\n",
       "<caption>A matrix: 1 × 1 of type dbl</caption>\n",
       "<tbody>\n",
       "\t<tr><td>-0.0947571</td></tr>\n",
       "</tbody>\n",
       "</table>\n",
       "</dd>\n",
       "\t<dt>$p</dt>\n",
       "\t\t<dd>0.924507764350012</dd>\n",
       "\t<dt>$p_emp</dt>\n",
       "\t\t<dd>0.9</dd>\n",
       "\t<dt>$p_emp_nocorr</dt>\n",
       "\t\t<dd>0.9</dd>\n",
       "\t<dt>$ci_low</dt>\n",
       "\t\t<dd>-0.125002916266747</dd>\n",
       "\t<dt>$ci_high</dt>\n",
       "\t\t<dd>0.123944204348209</dd>\n",
       "</dl>\n"
      ],
      "text/latex": [
       "\\begin{description}\n",
       "\\item[\\$diff] -0.00646985015112944\n",
       "\\item[\\$se] A matrix: 1 × 1 of type dbl\n",
       "\\begin{tabular}{l}\n",
       "\t 0.06827826\\\\\n",
       "\\end{tabular}\n",
       "\n",
       "\\item[\\$z] A matrix: 1 × 1 of type dbl\n",
       "\\begin{tabular}{l}\n",
       "\t -0.0947571\\\\\n",
       "\\end{tabular}\n",
       "\n",
       "\\item[\\$p] 0.924507764350012\n",
       "\\item[\\$p\\_emp] 0.9\n",
       "\\item[\\$p\\_emp\\_nocorr] 0.9\n",
       "\\item[\\$ci\\_low] -0.125002916266747\n",
       "\\item[\\$ci\\_high] 0.123944204348209\n",
       "\\end{description}\n"
      ],
      "text/markdown": [
       "$diff\n",
       ":   -0.00646985015112944\n",
       "$se\n",
       ":   \n",
       "A matrix: 1 × 1 of type dbl\n",
       "\n",
       "| 0.06827826 |\n",
       "\n",
       "\n",
       "$z\n",
       ":   \n",
       "A matrix: 1 × 1 of type dbl\n",
       "\n",
       "| -0.0947571 |\n",
       "\n",
       "\n",
       "$p\n",
       ":   0.924507764350012\n",
       "$p_emp\n",
       ":   0.9\n",
       "$p_emp_nocorr\n",
       ":   0.9\n",
       "$ci_low\n",
       ":   -0.125002916266747\n",
       "$ci_high\n",
       ":   0.123944204348209\n",
       "\n",
       "\n"
      ],
      "text/plain": [
       "$diff\n",
       "[1] -0.00646985\n",
       "\n",
       "$se\n",
       "           [,1]\n",
       "[1,] 0.06827826\n",
       "\n",
       "$z\n",
       "           [,1]\n",
       "[1,] -0.0947571\n",
       "\n",
       "$p\n",
       "[1] 0.9245078\n",
       "\n",
       "$p_emp\n",
       "[1] 0.9\n",
       "\n",
       "$p_emp_nocorr\n",
       "[1] 0.9\n",
       "\n",
       "$ci_low\n",
       "[1] -0.1250029\n",
       "\n",
       "$ci_high\n",
       "[1] 0.1239442\n"
      ]
     },
     "metadata": {},
     "output_type": "display_data"
    }
   ],
   "source": [
    "fits = qpgraph_resample_multi(f2_blocks,\n",
    "            graphlist = list(base_qpgraph[[1]], \n",
    "                             base_swapped_qpgraph[[1]]),\n",
    "                             nboot = 100)\n",
    "\n",
    "compare_fits(fits[[1]]$score_test, fits[[2]]$score_test)"
   ]
  },
  {
   "cell_type": "code",
   "execution_count": 56,
   "id": "c442003c",
   "metadata": {
    "vscode": {
     "languageId": "r"
    }
   },
   "outputs": [
    {
     "data": {
      "image/png": "[encoded data removed]",
      "text/plain": [
       "plot without title"
      ]
     },
     "metadata": {
      "image/png": {
       "height": 420,
       "width": 420
      }
     },
     "output_type": "display_data"
    }
   ],
   "source": [
    "base_igraph %>% plot_graph(highlight_unidentifiable = TRUE)"
   ]
  },
  {
   "cell_type": "code",
   "execution_count": 57,
   "id": "740917b0",
   "metadata": {
    "vscode": {
     "languageId": "r"
    }
   },
   "outputs": [
    {
     "data": {
      "text/html": [
       "TRUE"
      ],
      "text/latex": [
       "TRUE"
      ],
      "text/markdown": [
       "TRUE"
      ],
      "text/plain": [
       "[1] TRUE"
      ]
     },
     "metadata": {},
     "output_type": "display_data"
    },
    {
     "data": {
      "image/png": "[encoded data removed]",
      "text/plain": [
       "plot without title"
      ]
     },
     "metadata": {
      "image/png": {
       "height": 420,
       "width": 420
      }
     },
     "output_type": "display_data"
    }
   ],
   "source": [
    "yamnaya_edges <- matrix(\n",
    "                c(\"R\", \"Mbuti\",\n",
    "                  \"R\", \"eAfr\",\n",
    "                  \"eAfr\", \"Dinka\",\n",
    "                  \"eAfr\", \"outAfrica\",\n",
    "                  \"outAfrica\", \"Han\",\n",
    "                  \"outAfrica\", \"wEurasian\",\n",
    "                  \"wEurasian\", \"Yamnaya\",\n",
    "                  \"wEurasian\", \"Loschbour\"),\n",
    "                ncol=2,\n",
    "                byrow = TRUE,\n",
    "                dimnames=list(NULL, c(\"from\",\"to\")))\n",
    "\n",
    "yamnaya_igraph <- yamnaya_edges %>% edges_to_igraph()\n",
    "is_valid(yamnaya_igraph)\n",
    "\n",
    "# Static plot\n",
    "yamnaya_igraph %>% plot_graph()\n"
   ]
  },
  {
   "cell_type": "code",
   "execution_count": 58,
   "id": "0967804f",
   "metadata": {
    "vscode": {
     "languageId": "r"
    }
   },
   "outputs": [
    {
     "data": {
      "text/html": [
       "<table class=\"dataframe\">\n",
       "<caption>A tibble: 10 × 9</caption>\n",
       "<thead>\n",
       "\t<tr><th scope=col>pop1</th><th scope=col>pop2</th><th scope=col>pop3</th><th scope=col>est</th><th scope=col>se</th><th scope=col>fit</th><th scope=col>diff</th><th scope=col>z</th><th scope=col>p</th></tr>\n",
       "\t<tr><th scope=col>&lt;chr&gt;</th><th scope=col>&lt;chr&gt;</th><th scope=col>&lt;chr&gt;</th><th scope=col>&lt;dbl&gt;</th><th scope=col>&lt;dbl&gt;</th><th scope=col>&lt;dbl&gt;</th><th scope=col>&lt;dbl&gt;</th><th scope=col>&lt;dbl&gt;</th><th scope=col>&lt;dbl&gt;</th></tr>\n",
       "</thead>\n",
       "<tbody>\n",
       "\t<tr><td>Mbuti</td><td>Dinka    </td><td>Dinka    </td><td>0.02405428</td><td>0.0002952023</td><td>0.02404789</td><td> 6.383279e-06</td><td> 0.02162340</td><td>0.9827484</td></tr>\n",
       "\t<tr><td>Mbuti</td><td>Dinka    </td><td>Han      </td><td>0.02175712</td><td>0.0003134527</td><td>0.02175399</td><td> 3.137069e-06</td><td> 0.01000811</td><td>0.9920148</td></tr>\n",
       "\t<tr><td>Mbuti</td><td>Dinka    </td><td>Yamnaya  </td><td>0.02166441</td><td>0.0003173342</td><td>0.02175399</td><td>-8.957472e-05</td><td>-0.28227247</td><td>0.7777346</td></tr>\n",
       "\t<tr><td>Mbuti</td><td>Dinka    </td><td>Loschbour</td><td>0.02196970</td><td>0.0003570995</td><td>0.02175399</td><td> 2.157169e-04</td><td> 0.60408057</td><td>0.5457901</td></tr>\n",
       "\t<tr><td>Mbuti</td><td>Han      </td><td>Han      </td><td>0.07115365</td><td>0.0005367435</td><td>0.07112795</td><td> 2.569915e-05</td><td> 0.04787977</td><td>0.9618121</td></tr>\n",
       "\t<tr><td>Mbuti</td><td>Han      </td><td>Yamnaya  </td><td>0.05262862</td><td>0.0005100894</td><td>0.05271653</td><td>-8.790976e-05</td><td>-0.17234188</td><td>0.8631688</td></tr>\n",
       "\t<tr><td>Mbuti</td><td>Han      </td><td>Loschbour</td><td>0.05305283</td><td>0.0005883651</td><td>0.05271653</td><td> 3.362976e-04</td><td> 0.57157978</td><td>0.5676067</td></tr>\n",
       "\t<tr><td>Mbuti</td><td>Yamnaya  </td><td>Yamnaya  </td><td>0.07651678</td><td>0.0006380620</td><td>0.07669450</td><td>-1.777172e-04</td><td>-0.27852649</td><td>0.7806082</td></tr>\n",
       "\t<tr><td>Mbuti</td><td>Yamnaya  </td><td>Loschbour</td><td>0.06105874</td><td>0.0006192041</td><td>0.06091107</td><td> 1.476767e-04</td><td> 0.23849431</td><td>0.8114977</td></tr>\n",
       "\t<tr><td>Mbuti</td><td>Loschbour</td><td>Loschbour</td><td>0.09123081</td><td>0.0012056983</td><td>0.09068616</td><td> 5.446481e-04</td><td> 0.45172836</td><td>0.6514647</td></tr>\n",
       "</tbody>\n",
       "</table>\n"
      ],
      "text/latex": [
       "A tibble: 10 × 9\n",
       "\\begin{tabular}{lllllllll}\n",
       " pop1 & pop2 & pop3 & est & se & fit & diff & z & p\\\\\n",
       " <chr> & <chr> & <chr> & <dbl> & <dbl> & <dbl> & <dbl> & <dbl> & <dbl>\\\\\n",
       "\\hline\n",
       "\t Mbuti & Dinka     & Dinka     & 0.02405428 & 0.0002952023 & 0.02404789 &  6.383279e-06 &  0.02162340 & 0.9827484\\\\\n",
       "\t Mbuti & Dinka     & Han       & 0.02175712 & 0.0003134527 & 0.02175399 &  3.137069e-06 &  0.01000811 & 0.9920148\\\\\n",
       "\t Mbuti & Dinka     & Yamnaya   & 0.02166441 & 0.0003173342 & 0.02175399 & -8.957472e-05 & -0.28227247 & 0.7777346\\\\\n",
       "\t Mbuti & Dinka     & Loschbour & 0.02196970 & 0.0003570995 & 0.02175399 &  2.157169e-04 &  0.60408057 & 0.5457901\\\\\n",
       "\t Mbuti & Han       & Han       & 0.07115365 & 0.0005367435 & 0.07112795 &  2.569915e-05 &  0.04787977 & 0.9618121\\\\\n",
       "\t Mbuti & Han       & Yamnaya   & 0.05262862 & 0.0005100894 & 0.05271653 & -8.790976e-05 & -0.17234188 & 0.8631688\\\\\n",
       "\t Mbuti & Han       & Loschbour & 0.05305283 & 0.0005883651 & 0.05271653 &  3.362976e-04 &  0.57157978 & 0.5676067\\\\\n",
       "\t Mbuti & Yamnaya   & Yamnaya   & 0.07651678 & 0.0006380620 & 0.07669450 & -1.777172e-04 & -0.27852649 & 0.7806082\\\\\n",
       "\t Mbuti & Yamnaya   & Loschbour & 0.06105874 & 0.0006192041 & 0.06091107 &  1.476767e-04 &  0.23849431 & 0.8114977\\\\\n",
       "\t Mbuti & Loschbour & Loschbour & 0.09123081 & 0.0012056983 & 0.09068616 &  5.446481e-04 &  0.45172836 & 0.6514647\\\\\n",
       "\\end{tabular}\n"
      ],
      "text/markdown": [
       "\n",
       "A tibble: 10 × 9\n",
       "\n",
       "| pop1 &lt;chr&gt; | pop2 &lt;chr&gt; | pop3 &lt;chr&gt; | est &lt;dbl&gt; | se &lt;dbl&gt; | fit &lt;dbl&gt; | diff &lt;dbl&gt; | z &lt;dbl&gt; | p &lt;dbl&gt; |\n",
       "|---|---|---|---|---|---|---|---|---|\n",
       "| Mbuti | Dinka     | Dinka     | 0.02405428 | 0.0002952023 | 0.02404789 |  6.383279e-06 |  0.02162340 | 0.9827484 |\n",
       "| Mbuti | Dinka     | Han       | 0.02175712 | 0.0003134527 | 0.02175399 |  3.137069e-06 |  0.01000811 | 0.9920148 |\n",
       "| Mbuti | Dinka     | Yamnaya   | 0.02166441 | 0.0003173342 | 0.02175399 | -8.957472e-05 | -0.28227247 | 0.7777346 |\n",
       "| Mbuti | Dinka     | Loschbour | 0.02196970 | 0.0003570995 | 0.02175399 |  2.157169e-04 |  0.60408057 | 0.5457901 |\n",
       "| Mbuti | Han       | Han       | 0.07115365 | 0.0005367435 | 0.07112795 |  2.569915e-05 |  0.04787977 | 0.9618121 |\n",
       "| Mbuti | Han       | Yamnaya   | 0.05262862 | 0.0005100894 | 0.05271653 | -8.790976e-05 | -0.17234188 | 0.8631688 |\n",
       "| Mbuti | Han       | Loschbour | 0.05305283 | 0.0005883651 | 0.05271653 |  3.362976e-04 |  0.57157978 | 0.5676067 |\n",
       "| Mbuti | Yamnaya   | Yamnaya   | 0.07651678 | 0.0006380620 | 0.07669450 | -1.777172e-04 | -0.27852649 | 0.7806082 |\n",
       "| Mbuti | Yamnaya   | Loschbour | 0.06105874 | 0.0006192041 | 0.06091107 |  1.476767e-04 |  0.23849431 | 0.8114977 |\n",
       "| Mbuti | Loschbour | Loschbour | 0.09123081 | 0.0012056983 | 0.09068616 |  5.446481e-04 |  0.45172836 | 0.6514647 |\n",
       "\n"
      ],
      "text/plain": [
       "   pop1  pop2      pop3      est        se           fit        diff         \n",
       "1  Mbuti Dinka     Dinka     0.02405428 0.0002952023 0.02404789  6.383279e-06\n",
       "2  Mbuti Dinka     Han       0.02175712 0.0003134527 0.02175399  3.137069e-06\n",
       "3  Mbuti Dinka     Yamnaya   0.02166441 0.0003173342 0.02175399 -8.957472e-05\n",
       "4  Mbuti Dinka     Loschbour 0.02196970 0.0003570995 0.02175399  2.157169e-04\n",
       "5  Mbuti Han       Han       0.07115365 0.0005367435 0.07112795  2.569915e-05\n",
       "6  Mbuti Han       Yamnaya   0.05262862 0.0005100894 0.05271653 -8.790976e-05\n",
       "7  Mbuti Han       Loschbour 0.05305283 0.0005883651 0.05271653  3.362976e-04\n",
       "8  Mbuti Yamnaya   Yamnaya   0.07651678 0.0006380620 0.07669450 -1.777172e-04\n",
       "9  Mbuti Yamnaya   Loschbour 0.06105874 0.0006192041 0.06091107  1.476767e-04\n",
       "10 Mbuti Loschbour Loschbour 0.09123081 0.0012056983 0.09068616  5.446481e-04\n",
       "   z           p        \n",
       "1   0.02162340 0.9827484\n",
       "2   0.01000811 0.9920148\n",
       "3  -0.28227247 0.7777346\n",
       "4   0.60408057 0.5457901\n",
       "5   0.04787977 0.9618121\n",
       "6  -0.17234188 0.8631688\n",
       "7   0.57157978 0.5676067\n",
       "8  -0.27852649 0.7806082\n",
       "9   0.23849431 0.8114977\n",
       "10  0.45172836 0.6514647"
      ]
     },
     "metadata": {},
     "output_type": "display_data"
    },
    {
     "data": {
      "text/html": [
       "<table class=\"dataframe\">\n",
       "<caption>A tibble: 0 × 9</caption>\n",
       "<thead>\n",
       "\t<tr><th scope=col>pop1</th><th scope=col>pop2</th><th scope=col>pop3</th><th scope=col>est</th><th scope=col>se</th><th scope=col>fit</th><th scope=col>diff</th><th scope=col>z</th><th scope=col>p</th></tr>\n",
       "\t<tr><th scope=col>&lt;chr&gt;</th><th scope=col>&lt;chr&gt;</th><th scope=col>&lt;chr&gt;</th><th scope=col>&lt;dbl&gt;</th><th scope=col>&lt;dbl&gt;</th><th scope=col>&lt;dbl&gt;</th><th scope=col>&lt;dbl&gt;</th><th scope=col>&lt;dbl&gt;</th><th scope=col>&lt;dbl&gt;</th></tr>\n",
       "</thead>\n",
       "<tbody>\n",
       "</tbody>\n",
       "</table>\n"
      ],
      "text/latex": [
       "A tibble: 0 × 9\n",
       "\\begin{tabular}{lllllllll}\n",
       " pop1 & pop2 & pop3 & est & se & fit & diff & z & p\\\\\n",
       " <chr> & <chr> & <chr> & <dbl> & <dbl> & <dbl> & <dbl> & <dbl> & <dbl>\\\\\n",
       "\\hline\n",
       "\\end{tabular}\n"
      ],
      "text/markdown": [
       "\n",
       "A tibble: 0 × 9\n",
       "\n",
       "| pop1 &lt;chr&gt; | pop2 &lt;chr&gt; | pop3 &lt;chr&gt; | est &lt;dbl&gt; | se &lt;dbl&gt; | fit &lt;dbl&gt; | diff &lt;dbl&gt; | z &lt;dbl&gt; | p &lt;dbl&gt; |\n",
       "|---|---|---|---|---|---|---|---|---|\n",
       "\n"
      ],
      "text/plain": [
       "     pop1 pop2 pop3 est se fit diff z p"
      ]
     },
     "metadata": {},
     "output_type": "display_data"
    }
   ],
   "source": [
    "yamnaya_qpgraph <- qpgraph(data = f2_blocks, graph = yamnaya_igraph)\n",
    "\n",
    "yamnaya_qpgraph$f3\n",
    "\n",
    "yamnaya_qpgraph$f3 %>% filter(abs(z)>2)"
   ]
  },
  {
   "cell_type": "code",
   "execution_count": 59,
   "id": "8e1d1ee3",
   "metadata": {
    "vscode": {
     "languageId": "r"
    }
   },
   "outputs": [
    {
     "data": {
      "image/png": "[encoded data removed]",
      "text/plain": [
       "plot without title"
      ]
     },
     "metadata": {
      "image/png": {
       "height": 420,
       "width": 420
      }
     },
     "output_type": "display_data"
    }
   ],
   "source": [
    "lbk_extra_edges <- matrix(\n",
    "                    c(\n",
    "                      \"R\", \"Mbuti\",\n",
    "                      \"R\", \"eAfr\",\n",
    "                      \"eAfr\", \"pBasalEurasian\",\n",
    "                      \"eAfr\", \"Dinka\",\n",
    "                      \"pBasalEurasian\", \"BasalEurasian\",\n",
    "                      \"pBasalEurasian\",\"outAfrica\",\n",
    "                      \"outAfrica\", \"Han\",\n",
    "                      \"outAfrica\",\"wEurasian\",\n",
    "                      \"wEurasian\", \"Yamnaya\",\n",
    "                      \"wEurasian\", \"pLoschbour\",\n",
    "                      \"pLoschbour\", \"Loschbour\",\n",
    "                      \"pLoschbour\",\"WHG\",\n",
    "                      \"BasalEurasian\", \"pLBK\",\n",
    "                      \"WHG\", \"pLBK\",\n",
    "                      \"pLBK\",\"LBK\"),\n",
    "                    ncol = 2,\n",
    "                    byrow = TRUE,\n",
    "                    dimnames = list(NULL, c(\"from\", \"to\")))\n",
    "\n",
    "\n",
    "lbk_extra_igraph <- lbk_extra_edges %>% edges_to_igraph()\n",
    "\n",
    "lbk_extra_igraph %>% plot_graph()"
   ]
  },
  {
   "cell_type": "code",
   "execution_count": 60,
   "id": "8e163cb5",
   "metadata": {
    "vscode": {
     "languageId": "r"
    }
   },
   "outputs": [
    {
     "data": {
      "text/html": [
       "TRUE"
      ],
      "text/latex": [
       "TRUE"
      ],
      "text/markdown": [
       "TRUE"
      ],
      "text/plain": [
       "[1] TRUE"
      ]
     },
     "metadata": {},
     "output_type": "display_data"
    },
    {
     "data": {
      "image/png": "[encoded data removed]",
      "text/plain": [
       "plot without title"
      ]
     },
     "metadata": {
      "image/png": {
       "height": 420,
       "width": 420
      }
     },
     "output_type": "display_data"
    }
   ],
   "source": [
    "is_valid(lbk_extra_igraph)\n",
    "\n",
    "lbk_extra_igraph %>% plot_graph(highlight_unidentifiable = TRUE)"
   ]
  },
  {
   "cell_type": "code",
   "execution_count": 61,
   "id": "cf5efc17",
   "metadata": {
    "vscode": {
     "languageId": "r"
    }
   },
   "outputs": [
    {
     "data": {
      "image/png": "[encoded data removed]",
      "text/plain": [
       "plot without title"
      ]
     },
     "metadata": {
      "image/png": {
       "height": 420,
       "width": 420
      }
     },
     "output_type": "display_data"
    }
   ],
   "source": [
    "lbk_extra_qpgraph <- qpgraph(data = f2_blocks, graph = lbk_extra_igraph)\n",
    "lbk_extra_qpgraph$edges %>% plot_graph()"
   ]
  }
 ],
 "metadata": {
  "kernelspec": {
   "display_name": "R",
   "language": "R",
   "name": "ir"
  },
  "language_info": {
   "codemirror_mode": "r",
   "file_extension": ".r",
   "mimetype": "text/x-r-source",
   "name": "R",
   "pygments_lexer": "r",
   "version": "4.4.0"
  }
 },
 "nbformat": 4,
 "nbformat_minor": 5
}
